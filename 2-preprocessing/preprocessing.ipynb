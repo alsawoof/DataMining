{
  "nbformat": 4,
  "nbformat_minor": 0,
  "metadata": {
    "colab": {
      "provenance": []
    },
    "kernelspec": {
      "name": "python3",
      "display_name": "Python 3"
    },
    "language_info": {
      "name": "python"
    }
  },
  "cells": [
    {
      "cell_type": "markdown",
      "source": [
        "untuk inisialisasi library yang digunakan"
      ],
      "metadata": {
        "id": "sP5IeusFoqiz"
      }
    },
    {
      "cell_type": "code",
      "execution_count": 3,
      "metadata": {
        "id": "devcoPjsi9HP"
      },
      "outputs": [],
      "source": [
        "import numpy as np\n",
        "import matplotlib.pyplot as plt\n",
        "import pandas as pds\n",
        "\n",
        "dataset = pds.read_csv('exam1.csv')\n",
        "X = dataset.iloc[:, :-1].values\n",
        "y = dataset.iloc[:, -1].values"
      ]
    },
    {
      "cell_type": "code",
      "source": [
        "print(X)"
      ],
      "metadata": {
        "colab": {
          "base_uri": "https://localhost:8080/"
        },
        "id": "6T5TJDwWjVVi",
        "outputId": "0ef7c7e5-18a2-48d7-c75f-1fb25ff4b38c"
      },
      "execution_count": 4,
      "outputs": [
        {
          "output_type": "stream",
          "name": "stdout",
          "text": [
            "[['female' 'group D' 'some college' ... 59 70.0 78]\n",
            " ['male' 'group D' \"associate's degree\" ... 96 93.0 87]\n",
            " ['female' 'group D' 'some college' ... 57 nan 77]\n",
            " ...\n",
            " ['female' 'group A' 'high school' ... 67 86.0 86]\n",
            " ['male' 'group E' 'high school' ... 80 72.0 62]\n",
            " ['male' 'group D' 'high school' ... 58 47.0 45]]\n"
          ]
        }
      ]
    },
    {
      "cell_type": "code",
      "source": [
        "print(y)"
      ],
      "metadata": {
        "colab": {
          "base_uri": "https://localhost:8080/"
        },
        "id": "Xr78gF19jZRh",
        "outputId": "458c9b56-c307-4b30-9f36-66c2bc677c66"
      },
      "execution_count": 5,
      "outputs": [
        {
          "output_type": "stream",
          "name": "stdout",
          "text": [
            "['completed' 'none' 'none' 'none' 'none' 'none' 'none' 'none' 'none'\n",
            " 'completed' 'none' 'none' 'none' 'none' 'none' 'none' 'none' 'none'\n",
            " 'none' 'completed' 'none' 'completed' 'none' 'none' 'completed' 'none'\n",
            " 'none' 'none' 'none' 'none' 'completed' 'none' 'completed' 'none'\n",
            " 'completed' 'none' 'none' 'completed' 'completed' 'none' 'completed'\n",
            " 'completed' 'none' 'none' 'none' 'none' 'completed' 'completed' 'none'\n",
            " 'completed' 'completed' 'completed' 'none' 'completed' 'none' 'none'\n",
            " 'none' 'completed' 'none' 'none' 'completed' 'completed' 'none' 'none'\n",
            " 'none' 'none' 'none' 'completed' 'none' 'none' 'completed' 'completed'\n",
            " 'none' 'completed' 'completed' 'none' 'completed' 'none' 'completed'\n",
            " 'none' 'none' 'completed' 'none' 'completed' 'none' 'none' 'completed'\n",
            " 'none' 'none' 'none' 'completed' 'none' 'none' 'none' 'none' 'completed'\n",
            " 'completed' 'none' 'completed' 'none' 'none' 'none' 'none' 'none' 'none'\n",
            " 'none' 'completed' 'none' 'completed' 'none' 'completed' 'none'\n",
            " 'completed' 'completed' 'completed' 'none' 'none' 'completed' 'none'\n",
            " 'none' 'completed' 'none' 'completed' 'none' 'completed' 'none'\n",
            " 'completed' 'completed' 'none' 'none' 'none' 'none' 'completed' 'none'\n",
            " 'completed' 'none' 'none' 'none' 'none' 'none' 'none' 'none' 'none'\n",
            " 'none' 'none' 'completed' 'none' 'none' 'none' 'none' 'completed' 'none'\n",
            " 'none' 'none' 'none' 'none' 'completed' 'completed' 'completed' 'none'\n",
            " 'none' 'none' 'completed' 'completed' 'none' 'none' 'none' 'none'\n",
            " 'completed' 'completed' 'completed' 'none' 'completed' 'none' 'none'\n",
            " 'none' 'none' 'none' 'completed' 'none' 'none' 'none' 'none' 'completed'\n",
            " 'completed' 'none' 'none' 'none' 'none' 'none' 'none' 'completed' 'none'\n",
            " 'completed' 'none' 'none' 'completed' 'none' 'completed' 'completed'\n",
            " 'completed' 'none' 'none' 'none' 'none' 'none' 'none' 'none' 'none'\n",
            " 'completed' 'none' 'completed' 'none' 'none' 'none' 'completed' 'none'\n",
            " 'completed' 'none' 'none' 'none' 'completed' 'completed' 'none' 'none'\n",
            " 'none' 'completed' 'none' 'none' 'none' 'completed' 'none' 'none' 'none'\n",
            " 'completed' 'none' 'completed' 'completed' 'completed' 'none' 'completed'\n",
            " 'none' 'none' 'none' 'completed' 'completed' 'completed' 'none'\n",
            " 'completed' 'none' 'none' 'none' 'completed' 'completed' 'none' 'none'\n",
            " 'none' 'completed' 'completed' 'none' 'none' 'completed' 'none' 'none'\n",
            " 'none' 'none' 'none' 'none' 'none' 'completed' 'none' 'completed' 'none'\n",
            " 'none' 'none' 'none' 'none' 'completed' 'none' 'none' 'none' 'none'\n",
            " 'none' 'none' 'completed' 'completed' 'none' 'none' 'none' 'none' 'none'\n",
            " 'none' 'none' 'none' 'none' 'none' 'completed' 'none' 'none' 'completed'\n",
            " 'none' 'none' 'completed' 'none' 'completed' 'completed' 'none' 'none'\n",
            " 'completed' 'none' 'completed' 'none' 'completed' 'none' 'none' 'none'\n",
            " 'none' 'none' 'none' 'none' 'completed' 'none' 'completed' 'completed'\n",
            " 'none' 'none' 'none' 'none' 'completed' 'none' 'none' 'none' 'none'\n",
            " 'none' 'none' 'none' 'none' 'completed' 'completed' 'completed' 'none'\n",
            " 'none' 'none' 'completed' 'none' 'none' 'none' 'none' 'none' 'none'\n",
            " 'none' 'none' 'none' 'none' 'completed' 'none' 'completed' 'none'\n",
            " 'completed' 'completed' 'none' 'none' 'completed' 'none' 'completed'\n",
            " 'completed' 'none' 'completed' 'none' 'none' 'none' 'completed'\n",
            " 'completed' 'none' 'none' 'none' 'none' 'completed' 'completed'\n",
            " 'completed' 'completed' 'none' 'none' 'none' 'completed' 'none'\n",
            " 'completed' 'completed' 'none' 'completed' 'none' 'none' 'none' 'none'\n",
            " 'none' 'completed' 'none' 'none' 'none' 'none' 'none' 'none' 'none'\n",
            " 'none' 'none' 'completed' 'none' 'none' 'completed' 'none' 'completed'\n",
            " 'none' 'none' 'completed' 'none' 'none' 'none' 'none' 'none' 'completed'\n",
            " 'none' 'completed' 'completed' 'none' 'completed' 'none' 'none'\n",
            " 'completed' 'none' 'none' 'none' 'none' 'completed' 'none' 'none'\n",
            " 'completed' 'completed' 'none' 'completed' 'none' 'none' 'none' 'none'\n",
            " 'completed' 'completed' 'completed' 'none' 'none' 'none' 'none' 'none'\n",
            " 'none' 'none' 'none' 'none' 'none' 'none' 'completed' 'none' 'none'\n",
            " 'none' 'completed' 'none' 'none' 'none' 'completed' 'completed' 'none'\n",
            " 'none' 'completed' 'none' 'completed' 'completed' 'completed' 'none'\n",
            " 'none' 'completed' 'none' 'none' 'none' 'none' 'none' 'none' 'none'\n",
            " 'none' 'completed' 'none' 'completed' 'completed' 'completed' 'none'\n",
            " 'completed' 'none' 'none' 'completed' 'none' 'none' 'none' 'none' 'none'\n",
            " 'none' 'completed' 'none' 'none' 'completed' 'completed' 'none' 'none'\n",
            " 'completed' 'none' 'completed' 'none' 'none' 'none' 'none' 'completed'\n",
            " 'completed' 'none' 'completed' 'completed' 'none' 'completed' 'completed'\n",
            " 'completed' 'none' 'completed' 'none' 'completed' 'completed' 'none'\n",
            " 'completed' 'completed' 'none' 'completed' 'completed' 'completed'\n",
            " 'completed' 'none' 'completed' 'completed' 'completed' 'none' 'none'\n",
            " 'completed' 'none' 'none' 'none' 'none' 'completed' 'completed' 'none'\n",
            " 'completed' 'none' 'none' 'none' 'completed' 'completed' 'none' 'none'\n",
            " 'completed' 'completed' 'none' 'none' 'none' 'completed' 'none'\n",
            " 'completed' 'completed' 'none' 'completed' 'none' 'none' 'none' 'none'\n",
            " 'none' 'completed' 'none' 'none' 'none' 'none' 'completed' 'none'\n",
            " 'completed' 'none' 'none' 'none' 'none' 'none' 'none' 'completed'\n",
            " 'completed' 'none' 'none' 'none' 'none' 'none' 'completed' 'completed'\n",
            " 'none' 'completed' 'none' 'none' 'none' 'none' 'none' 'none' 'none'\n",
            " 'completed' 'completed' 'completed' 'none' 'none' 'completed' 'completed'\n",
            " 'completed' 'completed' 'completed' 'completed' 'completed' 'none' 'none'\n",
            " 'completed' 'none' 'none' 'completed' 'completed' 'none' 'completed'\n",
            " 'none' 'completed' 'none' 'completed' 'none' 'completed' 'none'\n",
            " 'completed' 'none' 'completed' 'none' 'none' 'completed' 'none' 'none'\n",
            " 'completed' 'none' 'completed' 'none' 'none' 'completed' 'none'\n",
            " 'completed' 'completed' 'none' 'completed' 'none' 'none' 'none'\n",
            " 'completed' 'none' 'none' 'none' 'completed' 'none' 'completed'\n",
            " 'completed' 'completed' 'none' 'completed' 'completed' 'completed' 'none'\n",
            " 'none' 'completed' 'none' 'none' 'none' 'completed' 'none' 'none'\n",
            " 'completed' 'completed' 'none' 'none' 'completed' 'none' 'none' 'none'\n",
            " 'none' 'none' 'completed' 'none' 'completed' 'none' 'none' 'completed'\n",
            " 'completed' 'none' 'none' 'none' 'none' 'none' 'none' 'none' 'none'\n",
            " 'none' 'none' 'completed' 'completed' 'none' 'none' 'completed' 'none'\n",
            " 'none' 'none' 'completed' 'none' 'completed' 'none' 'none' 'completed'\n",
            " 'none' 'completed' 'none' 'completed' 'none' 'none' 'none' 'none' 'none'\n",
            " 'none' 'none' 'completed' 'completed' 'none' 'completed' 'none' 'none'\n",
            " 'completed' 'completed' 'completed' 'completed' 'none' 'none' 'none'\n",
            " 'none' 'none' 'none' 'completed' 'none' 'completed' 'none' 'none' 'none'\n",
            " 'completed' 'none' 'none' 'completed' 'completed' 'none' 'none'\n",
            " 'completed' 'none' 'none' 'none' 'none' 'none' 'completed' 'none' 'none'\n",
            " 'completed' 'none' 'none' 'completed' 'completed' 'none' 'completed'\n",
            " 'none' 'completed' 'none' 'completed' 'completed' 'none' 'none' 'none'\n",
            " 'none' 'none' 'none' 'none' 'none' 'none' 'none' 'none' 'none' 'none'\n",
            " 'none' 'none' 'none' 'completed' 'none' 'none' 'none' 'none' 'none'\n",
            " 'completed' 'none' 'none' 'none' 'none' 'completed' 'completed'\n",
            " 'completed' 'none' 'completed' 'completed' 'none' 'none' 'none' 'none'\n",
            " 'completed' 'completed' 'none' 'none' 'none' 'completed' 'none' 'none'\n",
            " 'none' 'none' 'none' 'none' 'none' 'completed' 'completed' 'none' 'none'\n",
            " 'completed' 'completed' 'none' 'none' 'completed' 'completed' 'completed'\n",
            " 'none' 'completed' 'completed' 'completed' 'none' 'completed' 'completed'\n",
            " 'completed' 'none' 'none' 'none' 'completed' 'none' 'none' 'none'\n",
            " 'completed' 'completed' 'none' 'completed' 'completed' 'none' 'none'\n",
            " 'completed' 'completed' 'completed' 'none' 'none' 'none' 'completed'\n",
            " 'none' 'none' 'none' 'none' 'completed' 'none' 'completed' 'none' 'none'\n",
            " 'none' 'none' 'none' 'none' 'none' 'none' 'none' 'none' 'none'\n",
            " 'completed' 'none' 'none' 'none' 'none' 'none' 'none' 'completed'\n",
            " 'completed' 'none' 'completed' 'none' 'none' 'completed' 'none' 'none'\n",
            " 'none' 'none' 'completed' 'none' 'completed' 'completed' 'completed'\n",
            " 'completed' 'none' 'completed' 'none' 'none' 'none' 'none' 'none' 'none'\n",
            " 'completed' 'none' 'none' 'none' 'none' 'completed' 'none' 'completed'\n",
            " 'none' 'none' 'none' 'none' 'none' 'none' 'none' 'none' 'none' 'none'\n",
            " 'none' 'none' 'completed' 'none' 'none' 'none' 'none' 'completed' 'none'\n",
            " 'completed' 'none' 'completed' 'none' 'none' 'completed' 'none' 'none'\n",
            " 'none' 'none' 'none' 'completed' 'completed' 'completed' 'completed'\n",
            " 'none' 'none' 'none' 'none' 'none' 'none' 'none' 'none' 'none'\n",
            " 'completed' 'completed' 'completed' 'none' 'none' 'none' 'none' 'none'\n",
            " 'none' 'completed' 'none' 'completed' 'none' 'none' 'none' 'completed'\n",
            " 'none' 'completed' 'none' 'none' 'completed' 'none' 'none' 'none' 'none'\n",
            " 'completed' 'none' 'none']\n"
          ]
        }
      ]
    },
    {
      "cell_type": "markdown",
      "source": [
        "untuk menghilangkan missing values"
      ],
      "metadata": {
        "id": "2I-rfluXjeWQ"
      }
    },
    {
      "cell_type": "code",
      "source": [
        "from sklearn.impute import SimpleImputer\n",
        "imputer = SimpleImputer(missing_values=np.nan, strategy='mean')\n",
        "imputer.fit(X[:, 5:8])\n",
        "X[:, 5:8] = imputer.transform(X[:, 5:8])"
      ],
      "metadata": {
        "id": "g7y8ty6_jkHi"
      },
      "execution_count": 35,
      "outputs": []
    },
    {
      "cell_type": "code",
      "source": [
        "print(X)"
      ],
      "metadata": {
        "colab": {
          "base_uri": "https://localhost:8080/"
        },
        "id": "3X71xHHHm9rz",
        "outputId": "549525e4-3a92-4fea-9138-e35fb62f1ce4"
      },
      "execution_count": 36,
      "outputs": [
        {
          "output_type": "stream",
          "name": "stdout",
          "text": [
            "[[1.0 0.0 'group D' ... 59.0 70.0 78.0]\n",
            " [0.0 1.0 'group D' ... 96.0 93.0 87.0]\n",
            " [1.0 0.0 'group D' ... 57.0 70.37637637637637 77.0]\n",
            " ...\n",
            " [1.0 0.0 'group A' ... 67.0 86.0 86.0]\n",
            " [0.0 1.0 'group E' ... 80.0 72.0 62.0]\n",
            " [0.0 1.0 'group D' ... 58.0 47.0 45.0]]\n"
          ]
        }
      ]
    },
    {
      "cell_type": "markdown",
      "source": [
        "untuk encoding data ke matriks"
      ],
      "metadata": {
        "id": "kRg-gkQqn6a4"
      }
    },
    {
      "cell_type": "code",
      "source": [
        "from sklearn.compose import ColumnTransformer\n",
        "from sklearn.preprocessing import OneHotEncoder\n",
        "ct = ColumnTransformer(transformers=[('encoder', OneHotEncoder(), [0])], remainder='passthrough')\n",
        "X = np.array(ct.fit_transform(X))"
      ],
      "metadata": {
        "id": "YgCM8V6wn7i2"
      },
      "execution_count": 37,
      "outputs": []
    },
    {
      "cell_type": "code",
      "source": [
        "print(X)"
      ],
      "metadata": {
        "colab": {
          "base_uri": "https://localhost:8080/"
        },
        "id": "985RNHP1n_8t",
        "outputId": "0e17a057-4494-4e70-927b-4e6a23642df0"
      },
      "execution_count": 38,
      "outputs": [
        {
          "output_type": "stream",
          "name": "stdout",
          "text": [
            "[[0.0 1.0 0.0 ... 59.0 70.0 78.0]\n",
            " [1.0 0.0 1.0 ... 96.0 93.0 87.0]\n",
            " [0.0 1.0 0.0 ... 57.0 70.37637637637637 77.0]\n",
            " ...\n",
            " [0.0 1.0 0.0 ... 67.0 86.0 86.0]\n",
            " [1.0 0.0 1.0 ... 80.0 72.0 62.0]\n",
            " [1.0 0.0 1.0 ... 58.0 47.0 45.0]]\n"
          ]
        }
      ]
    },
    {
      "cell_type": "markdown",
      "source": [
        "untuk encoding label atau y"
      ],
      "metadata": {
        "id": "0a9VXAOfoG6Y"
      }
    },
    {
      "cell_type": "code",
      "source": [
        "from sklearn.preprocessing import LabelEncoder\n",
        "le = LabelEncoder()\n",
        "y = le.fit_transform(y)"
      ],
      "metadata": {
        "id": "w8k0OkAJoHrv"
      },
      "execution_count": 39,
      "outputs": []
    },
    {
      "cell_type": "code",
      "source": [
        "print(y)"
      ],
      "metadata": {
        "colab": {
          "base_uri": "https://localhost:8080/"
        },
        "id": "kDBMJfQkoKsc",
        "outputId": "2e98755d-0554-405c-97fa-f00a6e93dcda"
      },
      "execution_count": 40,
      "outputs": [
        {
          "output_type": "stream",
          "name": "stdout",
          "text": [
            "[0 1 1 1 1 1 1 1 1 0 1 1 1 1 1 1 1 1 1 0 1 0 1 1 0 1 1 1 1 1 0 1 0 1 0 1 1\n",
            " 0 0 1 0 0 1 1 1 1 0 0 1 0 0 0 1 0 1 1 1 0 1 1 0 0 1 1 1 1 1 0 1 1 0 0 1 0\n",
            " 0 1 0 1 0 1 1 0 1 0 1 1 0 1 1 1 0 1 1 1 1 0 0 1 0 1 1 1 1 1 1 1 0 1 0 1 0\n",
            " 1 0 0 0 1 1 0 1 1 0 1 0 1 0 1 0 0 1 1 1 1 0 1 0 1 1 1 1 1 1 1 1 1 1 0 1 1\n",
            " 1 1 0 1 1 1 1 1 0 0 0 1 1 1 0 0 1 1 1 1 0 0 0 1 0 1 1 1 1 1 0 1 1 1 1 0 0\n",
            " 1 1 1 1 1 1 0 1 0 1 1 0 1 0 0 0 1 1 1 1 1 1 1 1 0 1 0 1 1 1 0 1 0 1 1 1 0\n",
            " 0 1 1 1 0 1 1 1 0 1 1 1 0 1 0 0 0 1 0 1 1 1 0 0 0 1 0 1 1 1 0 0 1 1 1 0 0\n",
            " 1 1 0 1 1 1 1 1 1 1 0 1 0 1 1 1 1 1 0 1 1 1 1 1 1 0 0 1 1 1 1 1 1 1 1 1 1\n",
            " 0 1 1 0 1 1 0 1 0 0 1 1 0 1 0 1 0 1 1 1 1 1 1 1 0 1 0 0 1 1 1 1 0 1 1 1 1\n",
            " 1 1 1 1 0 0 0 1 1 1 0 1 1 1 1 1 1 1 1 1 1 0 1 0 1 0 0 1 1 0 1 0 0 1 0 1 1\n",
            " 1 0 0 1 1 1 1 0 0 0 0 1 1 1 0 1 0 0 1 0 1 1 1 1 1 0 1 1 1 1 1 1 1 1 1 0 1\n",
            " 1 0 1 0 1 1 0 1 1 1 1 1 0 1 0 0 1 0 1 1 0 1 1 1 1 0 1 1 0 0 1 0 1 1 1 1 0\n",
            " 0 0 1 1 1 1 1 1 1 1 1 1 1 0 1 1 1 0 1 1 1 0 0 1 1 0 1 0 0 0 1 1 0 1 1 1 1\n",
            " 1 1 1 1 0 1 0 0 0 1 0 1 1 0 1 1 1 1 1 1 0 1 1 0 0 1 1 0 1 0 1 1 1 1 0 0 1\n",
            " 0 0 1 0 0 0 1 0 1 0 0 1 0 0 1 0 0 0 0 1 0 0 0 1 1 0 1 1 1 1 0 0 1 0 1 1 1\n",
            " 0 0 1 1 0 0 1 1 1 0 1 0 0 1 0 1 1 1 1 1 0 1 1 1 1 0 1 0 1 1 1 1 1 1 0 0 1\n",
            " 1 1 1 1 0 0 1 0 1 1 1 1 1 1 1 0 0 0 1 1 0 0 0 0 0 0 0 1 1 0 1 1 0 0 1 0 1\n",
            " 0 1 0 1 0 1 0 1 0 1 1 0 1 1 0 1 0 1 1 0 1 0 0 1 0 1 1 1 0 1 1 1 0 1 0 0 0\n",
            " 1 0 0 0 1 1 0 1 1 1 0 1 1 0 0 1 1 0 1 1 1 1 1 0 1 0 1 1 0 0 1 1 1 1 1 1 1\n",
            " 1 1 1 0 0 1 1 0 1 1 1 0 1 0 1 1 0 1 0 1 0 1 1 1 1 1 1 1 0 0 1 0 1 1 0 0 0\n",
            " 0 1 1 1 1 1 1 0 1 0 1 1 1 0 1 1 0 0 1 1 0 1 1 1 1 1 0 1 1 0 1 1 0 0 1 0 1\n",
            " 0 1 0 0 1 1 1 1 1 1 1 1 1 1 1 1 1 1 1 1 0 1 1 1 1 1 0 1 1 1 1 0 0 0 1 0 0\n",
            " 1 1 1 1 0 0 1 1 1 0 1 1 1 1 1 1 1 0 0 1 1 0 0 1 1 0 0 0 1 0 0 0 1 0 0 0 1\n",
            " 1 1 0 1 1 1 0 0 1 0 0 1 1 0 0 0 1 1 1 0 1 1 1 1 0 1 0 1 1 1 1 1 1 1 1 1 1\n",
            " 1 0 1 1 1 1 1 1 0 0 1 0 1 1 0 1 1 1 1 0 1 0 0 0 0 1 0 1 1 1 1 1 1 0 1 1 1\n",
            " 1 0 1 0 1 1 1 1 1 1 1 1 1 1 1 1 0 1 1 1 1 0 1 0 1 0 1 1 0 1 1 1 1 1 0 0 0\n",
            " 0 1 1 1 1 1 1 1 1 1 0 0 0 1 1 1 1 1 1 0 1 0 1 1 1 0 1 0 1 1 0 1 1 1 1 0 1\n",
            " 1]\n"
          ]
        }
      ]
    },
    {
      "cell_type": "markdown",
      "source": [
        "untuk membagi data ke training dan test set dengan data test 20% dan data train 80%"
      ],
      "metadata": {
        "id": "g5CcF_BLoSBe"
      }
    },
    {
      "cell_type": "code",
      "source": [
        "from sklearn.model_selection import train_test_split\n",
        "X_train, X_test, y_train, y_test = train_test_split(X, y, test_size=0.2, random_state=1)"
      ],
      "metadata": {
        "id": "tflep1mzoNRW"
      },
      "execution_count": 41,
      "outputs": []
    },
    {
      "cell_type": "code",
      "source": [
        "print(X_train)"
      ],
      "metadata": {
        "colab": {
          "base_uri": "https://localhost:8080/"
        },
        "id": "53ph-w9YoY_E",
        "outputId": "ac39ab23-2a98-4502-dcbb-34f7478010dc"
      },
      "execution_count": 42,
      "outputs": [
        {
          "output_type": "stream",
          "name": "stdout",
          "text": [
            "[[0.0 1.0 0.0 ... 72.0 85.0 81.0]\n",
            " [0.0 1.0 0.0 ... 82.0 97.0 90.0]\n",
            " [1.0 0.0 1.0 ... 28.0 27.0 23.0]\n",
            " ...\n",
            " [1.0 0.0 1.0 ... 79.0 72.0 72.0]\n",
            " [0.0 1.0 0.0 ... 78.0 78.0 82.0]\n",
            " [1.0 0.0 1.0 ... 68.0 66.0 72.0]]\n"
          ]
        }
      ]
    },
    {
      "cell_type": "code",
      "source": [
        "print(X_test)"
      ],
      "metadata": {
        "colab": {
          "base_uri": "https://localhost:8080/"
        },
        "id": "360P2opzodYf",
        "outputId": "6587d490-7338-4e25-e63a-5c5a5f7b68c4"
      },
      "execution_count": 43,
      "outputs": [
        {
          "output_type": "stream",
          "name": "stdout",
          "text": [
            "[[1.0 0.0 1.0 ... 49.0 49.0 43.0]\n",
            " [1.0 0.0 1.0 ... 72.0 73.0 75.0]\n",
            " [0.0 1.0 0.0 ... 38.0 45.0 44.0]\n",
            " ...\n",
            " [1.0 0.0 1.0 ... 55.0 50.0 47.0]\n",
            " [1.0 0.0 1.0 ... 59.0 68.0 66.0]\n",
            " [1.0 0.0 1.0 ... 74.0 67.0 67.0]]\n"
          ]
        }
      ]
    },
    {
      "cell_type": "code",
      "source": [
        "print(y_train)"
      ],
      "metadata": {
        "colab": {
          "base_uri": "https://localhost:8080/"
        },
        "id": "YvKsEmwLof8J",
        "outputId": "10d47768-ab3c-4dfc-8dcf-b492f60764c5"
      },
      "execution_count": 44,
      "outputs": [
        {
          "output_type": "stream",
          "name": "stdout",
          "text": [
            "[1 1 1 0 0 1 0 1 1 1 1 1 0 1 0 0 1 1 1 0 1 1 1 1 1 1 1 0 1 1 1 1 1 1 1 0 1\n",
            " 0 1 1 0 1 0 1 0 1 1 1 1 0 1 1 1 1 1 1 1 1 1 0 1 1 1 1 0 1 1 1 1 0 0 1 0 1\n",
            " 1 0 1 0 0 0 1 1 0 1 0 1 1 0 0 1 1 1 1 0 0 1 1 0 1 1 0 0 0 1 0 1 1 0 1 1 1\n",
            " 0 1 0 1 1 1 0 0 0 0 1 0 1 0 1 1 1 1 1 1 1 1 1 1 1 0 0 1 1 1 0 0 1 1 1 1 1\n",
            " 1 1 1 0 1 1 0 0 0 0 1 1 1 1 0 0 1 0 1 1 0 1 0 0 1 1 0 1 1 1 1 1 1 1 0 1 0\n",
            " 1 1 1 0 1 1 1 1 1 1 0 1 1 1 1 0 1 0 1 0 1 1 1 1 1 1 1 1 0 1 1 1 0 1 1 1 1\n",
            " 1 0 1 0 0 1 0 1 0 0 1 1 1 1 1 0 1 1 0 0 0 1 1 1 1 1 1 0 1 0 1 1 1 1 1 1 0\n",
            " 1 1 1 1 1 1 1 0 1 0 1 1 0 1 0 1 1 1 1 1 1 0 0 1 1 0 1 1 0 1 1 1 1 0 1 1 0\n",
            " 0 0 1 0 1 1 1 1 1 1 1 1 0 1 1 1 1 0 1 0 0 0 0 0 0 1 0 0 0 0 1 1 1 0 1 1 1\n",
            " 1 1 1 1 0 0 1 1 1 1 0 1 0 1 1 0 0 1 1 1 1 1 1 0 0 0 1 0 0 0 1 1 1 1 1 1 1\n",
            " 0 1 0 1 0 0 0 0 0 0 1 1 1 1 0 0 1 1 0 0 1 1 1 1 1 1 0 1 0 1 0 0 1 0 1 1 0\n",
            " 1 0 1 0 0 0 1 1 0 0 1 1 1 0 1 1 1 1 0 1 1 0 1 0 1 1 0 1 0 1 1 0 1 0 0 1 0\n",
            " 0 1 0 1 0 1 1 1 1 1 1 0 0 1 1 1 1 1 0 0 0 1 0 0 1 1 1 1 0 1 1 1 1 1 0 1 0\n",
            " 1 1 1 1 1 0 0 1 1 1 1 1 0 1 1 1 0 0 1 1 1 1 1 1 0 0 1 0 1 1 1 1 0 0 1 1 1\n",
            " 1 0 1 0 1 1 0 1 0 0 1 1 0 0 0 1 0 1 1 1 1 1 1 0 1 0 0 0 1 0 1 1 0 1 0 1 1\n",
            " 1 1 0 1 1 1 1 0 1 1 1 1 1 1 1 1 1 1 0 0 0 0 1 1 0 1 1 1 0 1 1 1 0 1 0 0 0\n",
            " 0 1 1 0 1 1 0 1 1 1 1 1 0 1 0 0 1 1 0 1 1 1 0 1 1 1 0 1 0 1 1 1 0 1 1 0 1\n",
            " 1 0 0 1 1 0 1 0 0 1 1 0 1 0 1 1 0 1 1 1 0 0 1 0 1 1 0 0 1 1 1 0 0 0 0 1 1\n",
            " 1 1 1 1 1 1 1 1 1 1 1 0 0 1 0 0 1 0 1 1 0 1 1 0 1 1 1 1 1 1 1 1 0 1 1 1 0\n",
            " 1 1 1 1 0 1 1 0 0 0 1 0 0 1 1 0 0 0 1 0 1 1 0 1 1 0 1 1 1 1 1 1 1 0 1 1 1\n",
            " 1 0 0 1 1 0 1 0 0 1 1 0 1 0 1 1 0 1 1 1 1 1 0 0 1 1 0 0 0 1 1 1 0 1 0 0 1\n",
            " 0 1 1 1 0 1 1 0 0 1 0 1 1 0 0 0 1 1 1 1 1 1 0]\n"
          ]
        }
      ]
    },
    {
      "cell_type": "code",
      "source": [
        "print(y_test)"
      ],
      "metadata": {
        "colab": {
          "base_uri": "https://localhost:8080/"
        },
        "id": "aM3odB1Toi7w",
        "outputId": "e3ef92b8-9f79-40da-ab4a-dc06d6fe886a"
      },
      "execution_count": 45,
      "outputs": [
        {
          "output_type": "stream",
          "name": "stdout",
          "text": [
            "[1 0 1 1 1 1 1 0 1 0 1 1 1 1 1 1 1 1 1 1 1 0 1 1 1 1 0 1 0 1 0 1 1 0 1 1 0\n",
            " 0 1 0 1 0 0 1 1 1 1 0 1 1 1 0 1 1 1 1 1 1 1 1 1 0 0 0 1 0 1 1 0 1 1 1 1 1\n",
            " 0 1 0 1 1 1 1 1 0 0 1 0 1 0 1 0 1 1 1 1 1 1 0 1 0 1 1 1 0 0 1 1 1 0 0 1 1\n",
            " 1 0 1 1 1 1 1 0 1 1 1 1 1 1 0 1 1 0 1 0 0 1 1 0 0 1 0 0 0 0 0 1 0 1 1 1 1\n",
            " 0 1 0 1 1 1 1 1 1 0 1 1 1 1 1 1 1 0 0 0 0 1 1 0 1 0 1 1 1 0 1 1 1 0 1 0 0\n",
            " 1 0 1 1 0 1 1 1 1 0 1 1 1 0 1]\n"
          ]
        }
      ]
    },
    {
      "cell_type": "markdown",
      "source": [
        "untuk melakukan scaling untuk memperkecil skala yang terdapat pada data"
      ],
      "metadata": {
        "id": "ZCK4xDaLqcN0"
      }
    },
    {
      "cell_type": "code",
      "source": [
        "from sklearn.preprocessing import StandardScaler\n",
        "sc = StandardScaler()\n",
        "X_train[:, 6:9] = sc.fit_transform(X_train[:, 6:9])\n",
        "X_test[:, 6:9] = sc.transform(X_test[:, 6:9])"
      ],
      "metadata": {
        "id": "l4gBJJ90o7qg"
      },
      "execution_count": 50,
      "outputs": []
    },
    {
      "cell_type": "code",
      "source": [
        "print(X_train)"
      ],
      "metadata": {
        "colab": {
          "base_uri": "https://localhost:8080/"
        },
        "id": "odQIdadmpbrD",
        "outputId": "44f39042-d369-459a-93f3-2b3d20f1bcbf"
      },
      "execution_count": 51,
      "outputs": [
        {
          "output_type": "stream",
          "name": "stdout",
          "text": [
            "[[0.0 1.0 0.0 ... 0.2647815023278211 1.031276094627781 0.787773510491133]\n",
            " [0.0 1.0 0.0 ... 0.9055110905379147 1.8801357798225589 1.38658783434419]\n",
            " [1.0 0.0 1.0 ... -2.5544286857965903 -3.0715457171469795\n",
            "  -3.0712521321174564]\n",
            " ...\n",
            " [1.0 0.0 1.0 ... 0.7132922140748866 0.1116781023334381\n",
            "  0.18895918663807598]\n",
            " [0.0 1.0 0.0 ... 0.6492192552538772 0.536107944930827 0.8543084353636948]\n",
            " [1.0 0.0 1.0 ... 0.008489667043783766 -0.3127517402639509\n",
            "  0.18895918663807598]]\n"
          ]
        }
      ]
    },
    {
      "cell_type": "code",
      "source": [
        "print(X_test)"
      ],
      "metadata": {
        "colab": {
          "base_uri": "https://localhost:8080/"
        },
        "id": "u4Nxnev6ppP8",
        "outputId": "23c4a92f-5ade-474c-e9fa-d022e0a5777c"
      },
      "execution_count": 52,
      "outputs": [
        {
          "output_type": "stream",
          "name": "stdout",
          "text": [
            "[[1.0 0.0 1.0 ... -1.208896550555394 -1.515302960956553\n",
            "  -1.7405536346662187]\n",
            " [1.0 0.0 1.0 ... 0.2647815023278211 0.18241640943300294\n",
            "  0.38856396125576165]\n",
            " [0.0 1.0 0.0 ... -1.9136990975864967 -1.7982561893548124\n",
            "  -1.6740187097936567]\n",
            " ...\n",
            " [1.0 0.0 1.0 ... -0.8244587976293378 -1.4445646538569883\n",
            "  -1.474413935175971]\n",
            " [1.0 0.0 1.0 ... -0.5681669623453004 -0.17127512606482123\n",
            "  -0.21025036259729532]\n",
            " [1.0 0.0 1.0 ... 0.3929274199698398 -0.24201343316438606\n",
            "  -0.14371543772473344]]\n"
          ]
        }
      ]
    }
  ]
}