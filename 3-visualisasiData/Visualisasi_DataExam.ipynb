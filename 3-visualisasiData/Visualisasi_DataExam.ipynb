{
  "nbformat": 4,
  "nbformat_minor": 0,
  "metadata": {
    "colab": {
      "provenance": []
    },
    "kernelspec": {
      "name": "python3",
      "display_name": "Python 3"
    },
    "language_info": {
      "name": "python"
    }
  },
  "cells": [
    {
      "cell_type": "code",
      "execution_count": 1,
      "metadata": {
        "id": "LhBT2_MJggVe"
      },
      "outputs": [],
      "source": [
        "import numpy as np\n",
        "import matplotlib.pyplot as plt\n",
        "import pandas as pd"
      ]
    },
    {
      "cell_type": "code",
      "source": [
        "data = pd.read_csv(\"exams1.csv\")\n",
        "data.head()"
      ],
      "metadata": {
        "colab": {
          "base_uri": "https://localhost:8080/",
          "height": 268
        },
        "id": "gfZ1L-FsLxEg",
        "outputId": "7c75c072-e680-4bb2-85f5-fd5af2d585c6"
      },
      "execution_count": 46,
      "outputs": [
        {
          "output_type": "execute_result",
          "data": {
            "text/plain": [
              "   gender race/ethnicity parental level of education         lunch  \\\n",
              "0  female        group D                some college      standard   \n",
              "1    male        group D          associate's degree      standard   \n",
              "2  female        group D                some college  free/reduced   \n",
              "3    male        group B                some college  free/reduced   \n",
              "4  female        group D          associate's degree      standard   \n",
              "\n",
              "   math_score  reading_score  writing_score test preparation course  \n",
              "0        59.0           70.0           78.0               completed  \n",
              "1        96.0           93.0           87.0                    none  \n",
              "2         NaN           76.0           77.0                    none  \n",
              "3        70.0           70.0           63.0                    none  \n",
              "4        83.0           85.0            NaN                    none  "
            ],
            "text/html": [
              "\n",
              "  <div id=\"df-f71da9d8-23ed-40f5-a69a-6c47352e5f52\">\n",
              "    <div class=\"colab-df-container\">\n",
              "      <div>\n",
              "<style scoped>\n",
              "    .dataframe tbody tr th:only-of-type {\n",
              "        vertical-align: middle;\n",
              "    }\n",
              "\n",
              "    .dataframe tbody tr th {\n",
              "        vertical-align: top;\n",
              "    }\n",
              "\n",
              "    .dataframe thead th {\n",
              "        text-align: right;\n",
              "    }\n",
              "</style>\n",
              "<table border=\"1\" class=\"dataframe\">\n",
              "  <thead>\n",
              "    <tr style=\"text-align: right;\">\n",
              "      <th></th>\n",
              "      <th>gender</th>\n",
              "      <th>race/ethnicity</th>\n",
              "      <th>parental level of education</th>\n",
              "      <th>lunch</th>\n",
              "      <th>math_score</th>\n",
              "      <th>reading_score</th>\n",
              "      <th>writing_score</th>\n",
              "      <th>test preparation course</th>\n",
              "    </tr>\n",
              "  </thead>\n",
              "  <tbody>\n",
              "    <tr>\n",
              "      <th>0</th>\n",
              "      <td>female</td>\n",
              "      <td>group D</td>\n",
              "      <td>some college</td>\n",
              "      <td>standard</td>\n",
              "      <td>59.0</td>\n",
              "      <td>70.0</td>\n",
              "      <td>78.0</td>\n",
              "      <td>completed</td>\n",
              "    </tr>\n",
              "    <tr>\n",
              "      <th>1</th>\n",
              "      <td>male</td>\n",
              "      <td>group D</td>\n",
              "      <td>associate's degree</td>\n",
              "      <td>standard</td>\n",
              "      <td>96.0</td>\n",
              "      <td>93.0</td>\n",
              "      <td>87.0</td>\n",
              "      <td>none</td>\n",
              "    </tr>\n",
              "    <tr>\n",
              "      <th>2</th>\n",
              "      <td>female</td>\n",
              "      <td>group D</td>\n",
              "      <td>some college</td>\n",
              "      <td>free/reduced</td>\n",
              "      <td>NaN</td>\n",
              "      <td>76.0</td>\n",
              "      <td>77.0</td>\n",
              "      <td>none</td>\n",
              "    </tr>\n",
              "    <tr>\n",
              "      <th>3</th>\n",
              "      <td>male</td>\n",
              "      <td>group B</td>\n",
              "      <td>some college</td>\n",
              "      <td>free/reduced</td>\n",
              "      <td>70.0</td>\n",
              "      <td>70.0</td>\n",
              "      <td>63.0</td>\n",
              "      <td>none</td>\n",
              "    </tr>\n",
              "    <tr>\n",
              "      <th>4</th>\n",
              "      <td>female</td>\n",
              "      <td>group D</td>\n",
              "      <td>associate's degree</td>\n",
              "      <td>standard</td>\n",
              "      <td>83.0</td>\n",
              "      <td>85.0</td>\n",
              "      <td>NaN</td>\n",
              "      <td>none</td>\n",
              "    </tr>\n",
              "  </tbody>\n",
              "</table>\n",
              "</div>\n",
              "      <button class=\"colab-df-convert\" onclick=\"convertToInteractive('df-f71da9d8-23ed-40f5-a69a-6c47352e5f52')\"\n",
              "              title=\"Convert this dataframe to an interactive table.\"\n",
              "              style=\"display:none;\">\n",
              "        \n",
              "  <svg xmlns=\"http://www.w3.org/2000/svg\" height=\"24px\"viewBox=\"0 0 24 24\"\n",
              "       width=\"24px\">\n",
              "    <path d=\"M0 0h24v24H0V0z\" fill=\"none\"/>\n",
              "    <path d=\"M18.56 5.44l.94 2.06.94-2.06 2.06-.94-2.06-.94-.94-2.06-.94 2.06-2.06.94zm-11 1L8.5 8.5l.94-2.06 2.06-.94-2.06-.94L8.5 2.5l-.94 2.06-2.06.94zm10 10l.94 2.06.94-2.06 2.06-.94-2.06-.94-.94-2.06-.94 2.06-2.06.94z\"/><path d=\"M17.41 7.96l-1.37-1.37c-.4-.4-.92-.59-1.43-.59-.52 0-1.04.2-1.43.59L10.3 9.45l-7.72 7.72c-.78.78-.78 2.05 0 2.83L4 21.41c.39.39.9.59 1.41.59.51 0 1.02-.2 1.41-.59l7.78-7.78 2.81-2.81c.8-.78.8-2.07 0-2.86zM5.41 20L4 18.59l7.72-7.72 1.47 1.35L5.41 20z\"/>\n",
              "  </svg>\n",
              "      </button>\n",
              "      \n",
              "  <style>\n",
              "    .colab-df-container {\n",
              "      display:flex;\n",
              "      flex-wrap:wrap;\n",
              "      gap: 12px;\n",
              "    }\n",
              "\n",
              "    .colab-df-convert {\n",
              "      background-color: #E8F0FE;\n",
              "      border: none;\n",
              "      border-radius: 50%;\n",
              "      cursor: pointer;\n",
              "      display: none;\n",
              "      fill: #1967D2;\n",
              "      height: 32px;\n",
              "      padding: 0 0 0 0;\n",
              "      width: 32px;\n",
              "    }\n",
              "\n",
              "    .colab-df-convert:hover {\n",
              "      background-color: #E2EBFA;\n",
              "      box-shadow: 0px 1px 2px rgba(60, 64, 67, 0.3), 0px 1px 3px 1px rgba(60, 64, 67, 0.15);\n",
              "      fill: #174EA6;\n",
              "    }\n",
              "\n",
              "    [theme=dark] .colab-df-convert {\n",
              "      background-color: #3B4455;\n",
              "      fill: #D2E3FC;\n",
              "    }\n",
              "\n",
              "    [theme=dark] .colab-df-convert:hover {\n",
              "      background-color: #434B5C;\n",
              "      box-shadow: 0px 1px 3px 1px rgba(0, 0, 0, 0.15);\n",
              "      filter: drop-shadow(0px 1px 2px rgba(0, 0, 0, 0.3));\n",
              "      fill: #FFFFFF;\n",
              "    }\n",
              "  </style>\n",
              "\n",
              "      <script>\n",
              "        const buttonEl =\n",
              "          document.querySelector('#df-f71da9d8-23ed-40f5-a69a-6c47352e5f52 button.colab-df-convert');\n",
              "        buttonEl.style.display =\n",
              "          google.colab.kernel.accessAllowed ? 'block' : 'none';\n",
              "\n",
              "        async function convertToInteractive(key) {\n",
              "          const element = document.querySelector('#df-f71da9d8-23ed-40f5-a69a-6c47352e5f52');\n",
              "          const dataTable =\n",
              "            await google.colab.kernel.invokeFunction('convertToInteractive',\n",
              "                                                     [key], {});\n",
              "          if (!dataTable) return;\n",
              "\n",
              "          const docLinkHtml = 'Like what you see? Visit the ' +\n",
              "            '<a target=\"_blank\" href=https://colab.research.google.com/notebooks/data_table.ipynb>data table notebook</a>'\n",
              "            + ' to learn more about interactive tables.';\n",
              "          element.innerHTML = '';\n",
              "          dataTable['output_type'] = 'display_data';\n",
              "          await google.colab.output.renderOutput(dataTable, element);\n",
              "          const docLink = document.createElement('div');\n",
              "          docLink.innerHTML = docLinkHtml;\n",
              "          element.appendChild(docLink);\n",
              "        }\n",
              "      </script>\n",
              "    </div>\n",
              "  </div>\n",
              "  "
            ]
          },
          "metadata": {},
          "execution_count": 46
        }
      ]
    },
    {
      "cell_type": "code",
      "source": [
        "data.info()"
      ],
      "metadata": {
        "colab": {
          "base_uri": "https://localhost:8080/"
        },
        "id": "CBLwHOkFL3Ry",
        "outputId": "4f9a19f5-3b71-446b-e150-80972969f297"
      },
      "execution_count": 47,
      "outputs": [
        {
          "output_type": "stream",
          "name": "stdout",
          "text": [
            "<class 'pandas.core.frame.DataFrame'>\n",
            "RangeIndex: 1000 entries, 0 to 999\n",
            "Data columns (total 8 columns):\n",
            " #   Column                       Non-Null Count  Dtype  \n",
            "---  ------                       --------------  -----  \n",
            " 0   gender                       1000 non-null   object \n",
            " 1   race/ethnicity               1000 non-null   object \n",
            " 2   parental level of education  1000 non-null   object \n",
            " 3   lunch                        1000 non-null   object \n",
            " 4   math_score                   998 non-null    float64\n",
            " 5   reading_score                999 non-null    float64\n",
            " 6   writing_score                999 non-null    float64\n",
            " 7   test preparation course      1000 non-null   object \n",
            "dtypes: float64(3), object(5)\n",
            "memory usage: 62.6+ KB\n"
          ]
        }
      ]
    },
    {
      "cell_type": "code",
      "source": [
        "data['race/ethnicity'].unique()"
      ],
      "metadata": {
        "colab": {
          "base_uri": "https://localhost:8080/"
        },
        "id": "1QPF8LZdL78c",
        "outputId": "ae541bfb-29c2-46f9-9906-5d28a9628a5e"
      },
      "execution_count": 48,
      "outputs": [
        {
          "output_type": "execute_result",
          "data": {
            "text/plain": [
              "array(['group D', 'group B', 'group C', 'group E', 'group A'],\n",
              "      dtype=object)"
            ]
          },
          "metadata": {},
          "execution_count": 48
        }
      ]
    },
    {
      "cell_type": "code",
      "source": [
        "lunchform = 'free/reduced'\n",
        "data[data['lunch']==lunchform]"
      ],
      "metadata": {
        "colab": {
          "base_uri": "https://localhost:8080/",
          "height": 485
        },
        "id": "f72V2oQNMfZE",
        "outputId": "8bddd291-6ba7-4adf-9871-d48fb0317277"
      },
      "execution_count": 49,
      "outputs": [
        {
          "output_type": "execute_result",
          "data": {
            "text/plain": [
              "     gender race/ethnicity parental level of education         lunch  \\\n",
              "2    female        group D                some college  free/reduced   \n",
              "3      male        group B                some college  free/reduced   \n",
              "12     male        group B           bachelor's degree  free/reduced   \n",
              "14     male        group C             master's degree  free/reduced   \n",
              "15     male        group E             master's degree  free/reduced   \n",
              "..      ...            ...                         ...           ...   \n",
              "970  female        group C                 high school  free/reduced   \n",
              "975    male        group E            some high school  free/reduced   \n",
              "977    male        group B           bachelor's degree  free/reduced   \n",
              "985  female        group A           bachelor's degree  free/reduced   \n",
              "992    male        group A          associate's degree  free/reduced   \n",
              "\n",
              "     math_score  reading_score  writing_score test preparation course  \n",
              "2           NaN           76.0           77.0                    none  \n",
              "3          70.0           70.0           63.0                    none  \n",
              "12         76.0           74.0           76.0                    none  \n",
              "14         55.0           54.0           52.0                    none  \n",
              "15         56.0           46.0           43.0                    none  \n",
              "..          ...            ...            ...                     ...  \n",
              "970        48.0           60.0           55.0                    none  \n",
              "975        47.0           54.0           48.0                    none  \n",
              "977        55.0           59.0           49.0                    none  \n",
              "985        65.0           64.0           73.0                    none  \n",
              "992        75.0           67.0           67.0               completed  \n",
              "\n",
              "[340 rows x 8 columns]"
            ],
            "text/html": [
              "\n",
              "  <div id=\"df-c67ff8ba-8528-4be6-aa2b-0ec950bdfb5b\">\n",
              "    <div class=\"colab-df-container\">\n",
              "      <div>\n",
              "<style scoped>\n",
              "    .dataframe tbody tr th:only-of-type {\n",
              "        vertical-align: middle;\n",
              "    }\n",
              "\n",
              "    .dataframe tbody tr th {\n",
              "        vertical-align: top;\n",
              "    }\n",
              "\n",
              "    .dataframe thead th {\n",
              "        text-align: right;\n",
              "    }\n",
              "</style>\n",
              "<table border=\"1\" class=\"dataframe\">\n",
              "  <thead>\n",
              "    <tr style=\"text-align: right;\">\n",
              "      <th></th>\n",
              "      <th>gender</th>\n",
              "      <th>race/ethnicity</th>\n",
              "      <th>parental level of education</th>\n",
              "      <th>lunch</th>\n",
              "      <th>math_score</th>\n",
              "      <th>reading_score</th>\n",
              "      <th>writing_score</th>\n",
              "      <th>test preparation course</th>\n",
              "    </tr>\n",
              "  </thead>\n",
              "  <tbody>\n",
              "    <tr>\n",
              "      <th>2</th>\n",
              "      <td>female</td>\n",
              "      <td>group D</td>\n",
              "      <td>some college</td>\n",
              "      <td>free/reduced</td>\n",
              "      <td>NaN</td>\n",
              "      <td>76.0</td>\n",
              "      <td>77.0</td>\n",
              "      <td>none</td>\n",
              "    </tr>\n",
              "    <tr>\n",
              "      <th>3</th>\n",
              "      <td>male</td>\n",
              "      <td>group B</td>\n",
              "      <td>some college</td>\n",
              "      <td>free/reduced</td>\n",
              "      <td>70.0</td>\n",
              "      <td>70.0</td>\n",
              "      <td>63.0</td>\n",
              "      <td>none</td>\n",
              "    </tr>\n",
              "    <tr>\n",
              "      <th>12</th>\n",
              "      <td>male</td>\n",
              "      <td>group B</td>\n",
              "      <td>bachelor's degree</td>\n",
              "      <td>free/reduced</td>\n",
              "      <td>76.0</td>\n",
              "      <td>74.0</td>\n",
              "      <td>76.0</td>\n",
              "      <td>none</td>\n",
              "    </tr>\n",
              "    <tr>\n",
              "      <th>14</th>\n",
              "      <td>male</td>\n",
              "      <td>group C</td>\n",
              "      <td>master's degree</td>\n",
              "      <td>free/reduced</td>\n",
              "      <td>55.0</td>\n",
              "      <td>54.0</td>\n",
              "      <td>52.0</td>\n",
              "      <td>none</td>\n",
              "    </tr>\n",
              "    <tr>\n",
              "      <th>15</th>\n",
              "      <td>male</td>\n",
              "      <td>group E</td>\n",
              "      <td>master's degree</td>\n",
              "      <td>free/reduced</td>\n",
              "      <td>56.0</td>\n",
              "      <td>46.0</td>\n",
              "      <td>43.0</td>\n",
              "      <td>none</td>\n",
              "    </tr>\n",
              "    <tr>\n",
              "      <th>...</th>\n",
              "      <td>...</td>\n",
              "      <td>...</td>\n",
              "      <td>...</td>\n",
              "      <td>...</td>\n",
              "      <td>...</td>\n",
              "      <td>...</td>\n",
              "      <td>...</td>\n",
              "      <td>...</td>\n",
              "    </tr>\n",
              "    <tr>\n",
              "      <th>970</th>\n",
              "      <td>female</td>\n",
              "      <td>group C</td>\n",
              "      <td>high school</td>\n",
              "      <td>free/reduced</td>\n",
              "      <td>48.0</td>\n",
              "      <td>60.0</td>\n",
              "      <td>55.0</td>\n",
              "      <td>none</td>\n",
              "    </tr>\n",
              "    <tr>\n",
              "      <th>975</th>\n",
              "      <td>male</td>\n",
              "      <td>group E</td>\n",
              "      <td>some high school</td>\n",
              "      <td>free/reduced</td>\n",
              "      <td>47.0</td>\n",
              "      <td>54.0</td>\n",
              "      <td>48.0</td>\n",
              "      <td>none</td>\n",
              "    </tr>\n",
              "    <tr>\n",
              "      <th>977</th>\n",
              "      <td>male</td>\n",
              "      <td>group B</td>\n",
              "      <td>bachelor's degree</td>\n",
              "      <td>free/reduced</td>\n",
              "      <td>55.0</td>\n",
              "      <td>59.0</td>\n",
              "      <td>49.0</td>\n",
              "      <td>none</td>\n",
              "    </tr>\n",
              "    <tr>\n",
              "      <th>985</th>\n",
              "      <td>female</td>\n",
              "      <td>group A</td>\n",
              "      <td>bachelor's degree</td>\n",
              "      <td>free/reduced</td>\n",
              "      <td>65.0</td>\n",
              "      <td>64.0</td>\n",
              "      <td>73.0</td>\n",
              "      <td>none</td>\n",
              "    </tr>\n",
              "    <tr>\n",
              "      <th>992</th>\n",
              "      <td>male</td>\n",
              "      <td>group A</td>\n",
              "      <td>associate's degree</td>\n",
              "      <td>free/reduced</td>\n",
              "      <td>75.0</td>\n",
              "      <td>67.0</td>\n",
              "      <td>67.0</td>\n",
              "      <td>completed</td>\n",
              "    </tr>\n",
              "  </tbody>\n",
              "</table>\n",
              "<p>340 rows × 8 columns</p>\n",
              "</div>\n",
              "      <button class=\"colab-df-convert\" onclick=\"convertToInteractive('df-c67ff8ba-8528-4be6-aa2b-0ec950bdfb5b')\"\n",
              "              title=\"Convert this dataframe to an interactive table.\"\n",
              "              style=\"display:none;\">\n",
              "        \n",
              "  <svg xmlns=\"http://www.w3.org/2000/svg\" height=\"24px\"viewBox=\"0 0 24 24\"\n",
              "       width=\"24px\">\n",
              "    <path d=\"M0 0h24v24H0V0z\" fill=\"none\"/>\n",
              "    <path d=\"M18.56 5.44l.94 2.06.94-2.06 2.06-.94-2.06-.94-.94-2.06-.94 2.06-2.06.94zm-11 1L8.5 8.5l.94-2.06 2.06-.94-2.06-.94L8.5 2.5l-.94 2.06-2.06.94zm10 10l.94 2.06.94-2.06 2.06-.94-2.06-.94-.94-2.06-.94 2.06-2.06.94z\"/><path d=\"M17.41 7.96l-1.37-1.37c-.4-.4-.92-.59-1.43-.59-.52 0-1.04.2-1.43.59L10.3 9.45l-7.72 7.72c-.78.78-.78 2.05 0 2.83L4 21.41c.39.39.9.59 1.41.59.51 0 1.02-.2 1.41-.59l7.78-7.78 2.81-2.81c.8-.78.8-2.07 0-2.86zM5.41 20L4 18.59l7.72-7.72 1.47 1.35L5.41 20z\"/>\n",
              "  </svg>\n",
              "      </button>\n",
              "      \n",
              "  <style>\n",
              "    .colab-df-container {\n",
              "      display:flex;\n",
              "      flex-wrap:wrap;\n",
              "      gap: 12px;\n",
              "    }\n",
              "\n",
              "    .colab-df-convert {\n",
              "      background-color: #E8F0FE;\n",
              "      border: none;\n",
              "      border-radius: 50%;\n",
              "      cursor: pointer;\n",
              "      display: none;\n",
              "      fill: #1967D2;\n",
              "      height: 32px;\n",
              "      padding: 0 0 0 0;\n",
              "      width: 32px;\n",
              "    }\n",
              "\n",
              "    .colab-df-convert:hover {\n",
              "      background-color: #E2EBFA;\n",
              "      box-shadow: 0px 1px 2px rgba(60, 64, 67, 0.3), 0px 1px 3px 1px rgba(60, 64, 67, 0.15);\n",
              "      fill: #174EA6;\n",
              "    }\n",
              "\n",
              "    [theme=dark] .colab-df-convert {\n",
              "      background-color: #3B4455;\n",
              "      fill: #D2E3FC;\n",
              "    }\n",
              "\n",
              "    [theme=dark] .colab-df-convert:hover {\n",
              "      background-color: #434B5C;\n",
              "      box-shadow: 0px 1px 3px 1px rgba(0, 0, 0, 0.15);\n",
              "      filter: drop-shadow(0px 1px 2px rgba(0, 0, 0, 0.3));\n",
              "      fill: #FFFFFF;\n",
              "    }\n",
              "  </style>\n",
              "\n",
              "      <script>\n",
              "        const buttonEl =\n",
              "          document.querySelector('#df-c67ff8ba-8528-4be6-aa2b-0ec950bdfb5b button.colab-df-convert');\n",
              "        buttonEl.style.display =\n",
              "          google.colab.kernel.accessAllowed ? 'block' : 'none';\n",
              "\n",
              "        async function convertToInteractive(key) {\n",
              "          const element = document.querySelector('#df-c67ff8ba-8528-4be6-aa2b-0ec950bdfb5b');\n",
              "          const dataTable =\n",
              "            await google.colab.kernel.invokeFunction('convertToInteractive',\n",
              "                                                     [key], {});\n",
              "          if (!dataTable) return;\n",
              "\n",
              "          const docLinkHtml = 'Like what you see? Visit the ' +\n",
              "            '<a target=\"_blank\" href=https://colab.research.google.com/notebooks/data_table.ipynb>data table notebook</a>'\n",
              "            + ' to learn more about interactive tables.';\n",
              "          element.innerHTML = '';\n",
              "          dataTable['output_type'] = 'display_data';\n",
              "          await google.colab.output.renderOutput(dataTable, element);\n",
              "          const docLink = document.createElement('div');\n",
              "          docLink.innerHTML = docLinkHtml;\n",
              "          element.appendChild(docLink);\n",
              "        }\n",
              "      </script>\n",
              "    </div>\n",
              "  </div>\n",
              "  "
            ]
          },
          "metadata": {},
          "execution_count": 49
        }
      ]
    },
    {
      "cell_type": "markdown",
      "source": [
        "untuk menampilkan math score dengan mencari rata-rata(mean) dan juga nilai tengah(median) tiap *level of education*"
      ],
      "metadata": {
        "id": "MziFxPgEXcD5"
      }
    },
    {
      "cell_type": "code",
      "source": [
        "unique_mathsc = data[data.math_score>70]['parental level of education'].unique()\n",
        "unique_mathsc.sort()\n",
        "unique_mathsc"
      ],
      "metadata": {
        "colab": {
          "base_uri": "https://localhost:8080/"
        },
        "id": "HzlpJ_E7ODBF",
        "outputId": "6b73c2be-47ee-4875-93bd-d1504ddc9244"
      },
      "execution_count": 50,
      "outputs": [
        {
          "output_type": "execute_result",
          "data": {
            "text/plain": [
              "array([\"associate's degree\", \"bachelor's degree\", 'high school',\n",
              "       \"master's degree\", 'some college', 'some high school'],\n",
              "      dtype=object)"
            ]
          },
          "metadata": {},
          "execution_count": 50
        }
      ]
    },
    {
      "cell_type": "code",
      "source": [
        "math_score_mean = []\n",
        "for i in unique_mathsc:\n",
        "  math_score_mean.append(data[data.math_score>0][data['parental level of education']==i][data['lunch']==lunchform].math_score.mean())"
      ],
      "metadata": {
        "colab": {
          "base_uri": "https://localhost:8080/"
        },
        "id": "yYXptFG0QFpo",
        "outputId": "5fdfa2fa-3ef1-49b9-a2f0-870dbd17262b"
      },
      "execution_count": 51,
      "outputs": [
        {
          "output_type": "stream",
          "name": "stderr",
          "text": [
            "<ipython-input-51-77cd38f5855f>:3: UserWarning: Boolean Series key will be reindexed to match DataFrame index.\n",
            "  math_score_mean.append(data[data.math_score>0][data['parental level of education']==i][data['lunch']==lunchform].math_score.mean())\n"
          ]
        }
      ]
    },
    {
      "cell_type": "code",
      "source": [
        "print(set(zip(unique_mathsc, math_score_mean)))"
      ],
      "metadata": {
        "colab": {
          "base_uri": "https://localhost:8080/"
        },
        "id": "vHwPdPYwRkda",
        "outputId": "3e54f066-c02f-4c4b-d509-61e8b4c32193"
      },
      "execution_count": 52,
      "outputs": [
        {
          "output_type": "stream",
          "name": "stdout",
          "text": [
            "{(\"bachelor's degree\", 62.5945945945946), (\"associate's degree\", 62.647887323943664), ('high school', 57.30379746835443), (\"master's degree\", 67.6), ('some high school', 53.9622641509434), ('some college', 60.10958904109589)}\n"
          ]
        }
      ]
    },
    {
      "cell_type": "code",
      "source": [
        "math_score_med = []\n",
        "for i in unique_mathsc:\n",
        "  math_score_med.append(data[data.math_score>0][data['parental level of education']==i][data['lunch']==lunchform].math_score.median())"
      ],
      "metadata": {
        "colab": {
          "base_uri": "https://localhost:8080/"
        },
        "id": "myhRMOITRvvO",
        "outputId": "cefd64b7-fcc6-4853-b92e-8fc0e7c37ddd"
      },
      "execution_count": 53,
      "outputs": [
        {
          "output_type": "stream",
          "name": "stderr",
          "text": [
            "<ipython-input-53-ec5ba70604c2>:3: UserWarning: Boolean Series key will be reindexed to match DataFrame index.\n",
            "  math_score_med.append(data[data.math_score>0][data['parental level of education']==i][data['lunch']==lunchform].math_score.median())\n",
            "<ipython-input-53-ec5ba70604c2>:3: UserWarning: Boolean Series key will be reindexed to match DataFrame index.\n",
            "  math_score_med.append(data[data.math_score>0][data['parental level of education']==i][data['lunch']==lunchform].math_score.median())\n",
            "<ipython-input-53-ec5ba70604c2>:3: UserWarning: Boolean Series key will be reindexed to match DataFrame index.\n",
            "  math_score_med.append(data[data.math_score>0][data['parental level of education']==i][data['lunch']==lunchform].math_score.median())\n",
            "<ipython-input-53-ec5ba70604c2>:3: UserWarning: Boolean Series key will be reindexed to match DataFrame index.\n",
            "  math_score_med.append(data[data.math_score>0][data['parental level of education']==i][data['lunch']==lunchform].math_score.median())\n",
            "<ipython-input-53-ec5ba70604c2>:3: UserWarning: Boolean Series key will be reindexed to match DataFrame index.\n",
            "  math_score_med.append(data[data.math_score>0][data['parental level of education']==i][data['lunch']==lunchform].math_score.median())\n",
            "<ipython-input-53-ec5ba70604c2>:3: UserWarning: Boolean Series key will be reindexed to match DataFrame index.\n",
            "  math_score_med.append(data[data.math_score>0][data['parental level of education']==i][data['lunch']==lunchform].math_score.median())\n"
          ]
        }
      ]
    },
    {
      "cell_type": "code",
      "source": [
        "print(set(zip(unique_mathsc, math_score_med)))"
      ],
      "metadata": {
        "colab": {
          "base_uri": "https://localhost:8080/"
        },
        "id": "GsKzSzZxR2aY",
        "outputId": "e9b61689-885a-4a13-f082-edb761b1b827"
      },
      "execution_count": 54,
      "outputs": [
        {
          "output_type": "stream",
          "name": "stdout",
          "text": [
            "{('high school', 59.0), ('some college', 62.0), ('some high school', 58.0), (\"associate's degree\", 62.0), (\"master's degree\", 71.0), (\"bachelor's degree\", 63.0)}\n"
          ]
        }
      ]
    },
    {
      "cell_type": "markdown",
      "source": [
        "*untuk perbandingan reading score > 70 dengan writing score > 99*"
      ],
      "metadata": {
        "id": "2JvXCTkQWs2O"
      }
    },
    {
      "cell_type": "code",
      "source": [
        "unique_readsc = data[data.reading_score>70]['parental level of education'].unique()\n",
        "unique_readsc.sort()\n",
        "unique_readsc"
      ],
      "metadata": {
        "colab": {
          "base_uri": "https://localhost:8080/"
        },
        "id": "MZ2kG7KvSrns",
        "outputId": "398c1cfc-25c0-4712-b1e0-286de4db7d2a"
      },
      "execution_count": 55,
      "outputs": [
        {
          "output_type": "execute_result",
          "data": {
            "text/plain": [
              "array([\"associate's degree\", \"bachelor's degree\", 'high school',\n",
              "       \"master's degree\", 'some college', 'some high school'],\n",
              "      dtype=object)"
            ]
          },
          "metadata": {},
          "execution_count": 55
        }
      ]
    },
    {
      "cell_type": "markdown",
      "source": [
        "untuk writing score > 99 hanya menampilkan 5 level education, sementara reading > 70 menampilkan 6"
      ],
      "metadata": {
        "id": "3LhUdYutWypF"
      }
    },
    {
      "cell_type": "code",
      "source": [
        "unique_writesc = data[data.writing_score>99]['parental level of education'].unique()\n",
        "unique_writesc.sort()\n",
        "unique_writesc"
      ],
      "metadata": {
        "colab": {
          "base_uri": "https://localhost:8080/"
        },
        "id": "QuXnEMNuTGhP",
        "outputId": "f71f06b6-f887-4052-b2c2-75739a238258"
      },
      "execution_count": 56,
      "outputs": [
        {
          "output_type": "execute_result",
          "data": {
            "text/plain": [
              "array([\"associate's degree\", \"bachelor's degree\", 'high school',\n",
              "       \"master's degree\", 'some college'], dtype=object)"
            ]
          },
          "metadata": {},
          "execution_count": 56
        }
      ]
    },
    {
      "cell_type": "code",
      "source": [
        "read_score_mean = []\n",
        "for i in unique_readsc:\n",
        "  read_score_mean.append(data[data.reading_score>0][data['parental level of education']==i][data['lunch']==lunchform].reading_score.mean())"
      ],
      "metadata": {
        "colab": {
          "base_uri": "https://localhost:8080/"
        },
        "id": "U7QJ-zbXTu33",
        "outputId": "116fb630-9b32-4c99-9ca5-d6780ded1bcb"
      },
      "execution_count": 57,
      "outputs": [
        {
          "output_type": "stream",
          "name": "stderr",
          "text": [
            "<ipython-input-57-1112b22717c0>:3: UserWarning: Boolean Series key will be reindexed to match DataFrame index.\n",
            "  read_score_mean.append(data[data.reading_score>0][data['parental level of education']==i][data['lunch']==lunchform].reading_score.mean())\n"
          ]
        }
      ]
    },
    {
      "cell_type": "code",
      "source": [
        "write_score_mean = []\n",
        "for i in unique_writesc:\n",
        "  write_score_mean.append(data[data.writing_score>0][data['parental level of education']==i][data['lunch']==lunchform].writing_score.mean())"
      ],
      "metadata": {
        "colab": {
          "base_uri": "https://localhost:8080/"
        },
        "id": "dNoXwTfGUL-6",
        "outputId": "2c119c57-541d-4f93-da92-b5cf72bc6f4d"
      },
      "execution_count": 58,
      "outputs": [
        {
          "output_type": "stream",
          "name": "stderr",
          "text": [
            "<ipython-input-58-cdf30728c6a6>:3: UserWarning: Boolean Series key will be reindexed to match DataFrame index.\n",
            "  write_score_mean.append(data[data.writing_score>0][data['parental level of education']==i][data['lunch']==lunchform].writing_score.mean())\n"
          ]
        }
      ]
    },
    {
      "cell_type": "markdown",
      "source": [
        "untuk perbandingan mean yang dihitung pada writing score (menampilkan 5 level education) dengan reading score (menampilkan 6 level education)"
      ],
      "metadata": {
        "id": "b0qFkyGyWmlj"
      }
    },
    {
      "cell_type": "code",
      "source": [
        "print(set(zip(unique_writesc, write_score_mean)))"
      ],
      "metadata": {
        "colab": {
          "base_uri": "https://localhost:8080/"
        },
        "id": "MDD22uSKUv8I",
        "outputId": "e475c8b6-7286-4982-9c9d-4a78cb18ea6a"
      },
      "execution_count": 59,
      "outputs": [
        {
          "output_type": "stream",
          "name": "stdout",
          "text": [
            "{(\"master's degree\", 68.08), ('high school', 62.22784810126582), ('some college', 63.945945945945944), (\"associate's degree\", 67.06944444444444), (\"bachelor's degree\", 66.5945945945946)}\n"
          ]
        }
      ]
    },
    {
      "cell_type": "code",
      "source": [
        "print(set(zip(unique_readsc, read_score_mean)))"
      ],
      "metadata": {
        "colab": {
          "base_uri": "https://localhost:8080/"
        },
        "id": "rb6apaeSU7IQ",
        "outputId": "29655e9f-b2ac-4ff1-bec9-ecc2720a4283"
      },
      "execution_count": 60,
      "outputs": [
        {
          "output_type": "stream",
          "name": "stdout",
          "text": [
            "{(\"bachelor's degree\", 67.56756756756756), ('high school', 64.92405063291139), (\"master's degree\", 68.32), (\"associate's degree\", 67.30555555555556), ('some high school', 62.132075471698116), ('some college', 65.43243243243244)}\n"
          ]
        }
      ]
    },
    {
      "cell_type": "code",
      "source": [
        "nan_indices = []\n",
        "for i in range(len(unique_mathsc)):\n",
        "  if type(unique_mathsc[i])==float:\n",
        "    nan_indices.append(i)"
      ],
      "metadata": {
        "id": "78LYN4DoXMRe"
      },
      "execution_count": 61,
      "outputs": []
    },
    {
      "cell_type": "code",
      "source": [
        "unique_mathsc = list(unique_mathsc)\n",
        "math_score_med = list(math_score_med)"
      ],
      "metadata": {
        "id": "jd9FHD9iX7UI"
      },
      "execution_count": 62,
      "outputs": []
    },
    {
      "cell_type": "code",
      "source": [
        "for i in nan_indices:\n",
        "  unique_mathsc.pop(i)\n",
        "  math_score_med.pop(i)\n",
        "\n",
        "unique_mathsc"
      ],
      "metadata": {
        "colab": {
          "base_uri": "https://localhost:8080/"
        },
        "id": "D-qBnxeuYc-k",
        "outputId": "a8d48f39-bd0a-4442-d964-e8ffd4662921"
      },
      "execution_count": 63,
      "outputs": [
        {
          "output_type": "execute_result",
          "data": {
            "text/plain": [
              "[\"associate's degree\",\n",
              " \"bachelor's degree\",\n",
              " 'high school',\n",
              " \"master's degree\",\n",
              " 'some college',\n",
              " 'some high school']"
            ]
          },
          "metadata": {},
          "execution_count": 63
        }
      ]
    },
    {
      "cell_type": "markdown",
      "source": [
        "untuk menampilkan grafik nilai tengah (median) dari math score"
      ],
      "metadata": {
        "id": "1amLgayIZpHZ"
      }
    },
    {
      "cell_type": "code",
      "source": [
        "plt.barh(unique_mathsc, math_score_med)\n",
        "plt.show()"
      ],
      "metadata": {
        "colab": {
          "base_uri": "https://localhost:8080/",
          "height": 265
        },
        "id": "bE5gSx_PZVpt",
        "outputId": "c7de9a4c-ee6a-4f24-ce57-008eec89db90"
      },
      "execution_count": 65,
      "outputs": [
        {
          "output_type": "display_data",
          "data": {
            "text/plain": [
              "<Figure size 432x288 with 1 Axes>"
            ],
            "image/png": "[encoded data removed]"
          },
          "metadata": {
            "needs_background": "light"
          }
        }
      ]
    },
    {
      "cell_type": "code",
      "source": [
        "plt.pie(math_score_med)\n",
        "plt.legend(unique_mathsc, loc='best')\n",
        "plt.show()"
      ],
      "metadata": {
        "colab": {
          "base_uri": "https://localhost:8080/",
          "height": 248
        },
        "id": "vcfRinrSZyZI",
        "outputId": "02a1b25f-f732-43ce-a544-d6637fcbfcc5"
      },
      "execution_count": 66,
      "outputs": [
        {
          "output_type": "display_data",
          "data": {
            "text/plain": [
              "<Figure size 432x288 with 1 Axes>"
            ],
            "image/png": "[encoded data removed]"
          },
          "metadata": {}
        }
      ]
    },
    {
      "cell_type": "markdown",
      "source": [
        "untuk membuat grafik dari rata-rata yang diperoleh tiap level of education dari writing score."
      ],
      "metadata": {
        "id": "osnIFt4BbC1u"
      }
    },
    {
      "cell_type": "code",
      "source": [
        "plt.barh(unique_writesc, write_score_mean)\n",
        "plt.show()"
      ],
      "metadata": {
        "colab": {
          "base_uri": "https://localhost:8080/",
          "height": 265
        },
        "id": "z6EK_x1Ya7ON",
        "outputId": "427b15e0-e929-4bab-c5be-7c584fcddca0"
      },
      "execution_count": 73,
      "outputs": [
        {
          "output_type": "display_data",
          "data": {
            "text/plain": [
              "<Figure size 432x288 with 1 Axes>"
            ],
            "image/png": "[encoded data removed]"
          },
          "metadata": {
            "needs_background": "light"
          }
        }
      ]
    },
    {
      "cell_type": "code",
      "source": [
        "plt.pie(write_score_mean)\n",
        "plt.legend(unique_writesc, loc='best')\n",
        "plt.show()"
      ],
      "metadata": {
        "colab": {
          "base_uri": "https://localhost:8080/",
          "height": 248
        },
        "id": "LsR1rcVHaiJK",
        "outputId": "edad6a46-11aa-4f8a-e5e0-804d2d4d487c"
      },
      "execution_count": 71,
      "outputs": [
        {
          "output_type": "display_data",
          "data": {
            "text/plain": [
              "<Figure size 432x288 with 1 Axes>"
            ],
            "image/png": "[encoded data removed]"
          },
          "metadata": {}
        }
      ]
    },
    {
      "cell_type": "markdown",
      "source": [
        "untuk membuat grafik dari rata-rata(mean) read score"
      ],
      "metadata": {
        "id": "ZiirMmmja1MT"
      }
    },
    {
      "cell_type": "code",
      "source": [
        "plt.barh(unique_readsc, read_score_mean)\n",
        "plt.show()"
      ],
      "metadata": {
        "colab": {
          "base_uri": "https://localhost:8080/",
          "height": 265
        },
        "id": "n46DhbdWareE",
        "outputId": "f5037e7a-7d91-4639-fd30-039e86ad50a0"
      },
      "execution_count": 72,
      "outputs": [
        {
          "output_type": "display_data",
          "data": {
            "text/plain": [
              "<Figure size 432x288 with 1 Axes>"
            ],
            "image/png": "[encoded data removed]"
          },
          "metadata": {
            "needs_background": "light"
          }
        }
      ]
    },
    {
      "cell_type": "code",
      "source": [
        "plt.pie(read_score_mean)\n",
        "plt.legend(unique_readsc, loc='best')\n",
        "plt.show()"
      ],
      "metadata": {
        "colab": {
          "base_uri": "https://localhost:8080/",
          "height": 248
        },
        "id": "UcONsRQKaMFk",
        "outputId": "aec69ede-71d8-427b-c421-fbb4e9d5653d"
      },
      "execution_count": 70,
      "outputs": [
        {
          "output_type": "display_data",
          "data": {
            "text/plain": [
              "<Figure size 432x288 with 1 Axes>"
            ],
            "image/png": "[encoded data removed]"
          },
          "metadata": {}
        }
      ]
    }
  ]
}