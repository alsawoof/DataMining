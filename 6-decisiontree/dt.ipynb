{
  "nbformat": 4,
  "nbformat_minor": 0,
  "metadata": {
    "colab": {
      "provenance": []
    },
    "kernelspec": {
      "name": "python3",
      "display_name": "Python 3"
    },
    "language_info": {
      "name": "python"
    }
  },
  "cells": [
    {
      "cell_type": "code",
      "execution_count": 33,
      "metadata": {
        "id": "kfq5Wjdw4BSn"
      },
      "outputs": [],
      "source": [
        "import numpy as np\n",
        "import pandas as pd\n",
        "from sklearn import tree"
      ]
    },
    {
      "cell_type": "code",
      "source": [
        "#baca dataset dari file ke pandas dataframe\n",
        "diabetDataset = pd.read_csv('diabetes_prediction_dataset.csv', delimiter=',', header=0)"
      ],
      "metadata": {
        "id": "YpycbUL6M17U"
      },
      "execution_count": 34,
      "outputs": []
    },
    {
      "cell_type": "code",
      "source": [
        "diabetDataset.info()"
      ],
      "metadata": {
        "colab": {
          "base_uri": "https://localhost:8080/"
        },
        "id": "2aEUPoU0OFgX",
        "outputId": "34fc94ea-0dbf-4cec-91b2-174c18aa6ec8"
      },
      "execution_count": 35,
      "outputs": [
        {
          "output_type": "stream",
          "name": "stdout",
          "text": [
            "<class 'pandas.core.frame.DataFrame'>\n",
            "RangeIndex: 100000 entries, 0 to 99999\n",
            "Data columns (total 9 columns):\n",
            " #   Column               Non-Null Count   Dtype  \n",
            "---  ------               --------------   -----  \n",
            " 0   gender               100000 non-null  object \n",
            " 1   age                  100000 non-null  float64\n",
            " 2   hypertension         100000 non-null  int64  \n",
            " 3   heart_disease        100000 non-null  int64  \n",
            " 4   smoking_history      100000 non-null  object \n",
            " 5   bmi                  100000 non-null  float64\n",
            " 6   HbA1c_level          100000 non-null  float64\n",
            " 7   blood_glucose_level  100000 non-null  int64  \n",
            " 8   diabetes             100000 non-null  int64  \n",
            "dtypes: float64(3), int64(4), object(2)\n",
            "memory usage: 6.9+ MB\n"
          ]
        }
      ]
    },
    {
      "cell_type": "code",
      "source": [
        "diabetDataset"
      ],
      "metadata": {
        "colab": {
          "base_uri": "https://localhost:8080/",
          "height": 488
        },
        "id": "Uu0u1a92POpg",
        "outputId": "dc184122-358b-48d7-b283-2fb5687a514b"
      },
      "execution_count": 36,
      "outputs": [
        {
          "output_type": "execute_result",
          "data": {
            "text/plain": [
              "       gender   age  hypertension  heart_disease smoking_history    bmi  \\\n",
              "0      Female  80.0             0              1           never  25.19   \n",
              "1      Female  54.0             0              0         No Info  27.32   \n",
              "2        Male  28.0             0              0           never  27.32   \n",
              "3      Female  36.0             0              0         current  23.45   \n",
              "4        Male  76.0             1              1         current  20.14   \n",
              "...       ...   ...           ...            ...             ...    ...   \n",
              "99995  Female  80.0             0              0         No Info  27.32   \n",
              "99996  Female   2.0             0              0         No Info  17.37   \n",
              "99997    Male  66.0             0              0          former  27.83   \n",
              "99998  Female  24.0             0              0           never  35.42   \n",
              "99999  Female  57.0             0              0         current  22.43   \n",
              "\n",
              "       HbA1c_level  blood_glucose_level  diabetes  \n",
              "0              6.6                  140         0  \n",
              "1              6.6                   80         0  \n",
              "2              5.7                  158         0  \n",
              "3              5.0                  155         0  \n",
              "4              4.8                  155         0  \n",
              "...            ...                  ...       ...  \n",
              "99995          6.2                   90         0  \n",
              "99996          6.5                  100         0  \n",
              "99997          5.7                  155         0  \n",
              "99998          4.0                  100         0  \n",
              "99999          6.6                   90         0  \n",
              "\n",
              "[100000 rows x 9 columns]"
            ],
            "text/html": [
              "\n",
              "  <div id=\"df-4874962b-cba0-4079-b622-440e1d13a702\">\n",
              "    <div class=\"colab-df-container\">\n",
              "      <div>\n",
              "<style scoped>\n",
              "    .dataframe tbody tr th:only-of-type {\n",
              "        vertical-align: middle;\n",
              "    }\n",
              "\n",
              "    .dataframe tbody tr th {\n",
              "        vertical-align: top;\n",
              "    }\n",
              "\n",
              "    .dataframe thead th {\n",
              "        text-align: right;\n",
              "    }\n",
              "</style>\n",
              "<table border=\"1\" class=\"dataframe\">\n",
              "  <thead>\n",
              "    <tr style=\"text-align: right;\">\n",
              "      <th></th>\n",
              "      <th>gender</th>\n",
              "      <th>age</th>\n",
              "      <th>hypertension</th>\n",
              "      <th>heart_disease</th>\n",
              "      <th>smoking_history</th>\n",
              "      <th>bmi</th>\n",
              "      <th>HbA1c_level</th>\n",
              "      <th>blood_glucose_level</th>\n",
              "      <th>diabetes</th>\n",
              "    </tr>\n",
              "  </thead>\n",
              "  <tbody>\n",
              "    <tr>\n",
              "      <th>0</th>\n",
              "      <td>Female</td>\n",
              "      <td>80.0</td>\n",
              "      <td>0</td>\n",
              "      <td>1</td>\n",
              "      <td>never</td>\n",
              "      <td>25.19</td>\n",
              "      <td>6.6</td>\n",
              "      <td>140</td>\n",
              "      <td>0</td>\n",
              "    </tr>\n",
              "    <tr>\n",
              "      <th>1</th>\n",
              "      <td>Female</td>\n",
              "      <td>54.0</td>\n",
              "      <td>0</td>\n",
              "      <td>0</td>\n",
              "      <td>No Info</td>\n",
              "      <td>27.32</td>\n",
              "      <td>6.6</td>\n",
              "      <td>80</td>\n",
              "      <td>0</td>\n",
              "    </tr>\n",
              "    <tr>\n",
              "      <th>2</th>\n",
              "      <td>Male</td>\n",
              "      <td>28.0</td>\n",
              "      <td>0</td>\n",
              "      <td>0</td>\n",
              "      <td>never</td>\n",
              "      <td>27.32</td>\n",
              "      <td>5.7</td>\n",
              "      <td>158</td>\n",
              "      <td>0</td>\n",
              "    </tr>\n",
              "    <tr>\n",
              "      <th>3</th>\n",
              "      <td>Female</td>\n",
              "      <td>36.0</td>\n",
              "      <td>0</td>\n",
              "      <td>0</td>\n",
              "      <td>current</td>\n",
              "      <td>23.45</td>\n",
              "      <td>5.0</td>\n",
              "      <td>155</td>\n",
              "      <td>0</td>\n",
              "    </tr>\n",
              "    <tr>\n",
              "      <th>4</th>\n",
              "      <td>Male</td>\n",
              "      <td>76.0</td>\n",
              "      <td>1</td>\n",
              "      <td>1</td>\n",
              "      <td>current</td>\n",
              "      <td>20.14</td>\n",
              "      <td>4.8</td>\n",
              "      <td>155</td>\n",
              "      <td>0</td>\n",
              "    </tr>\n",
              "    <tr>\n",
              "      <th>...</th>\n",
              "      <td>...</td>\n",
              "      <td>...</td>\n",
              "      <td>...</td>\n",
              "      <td>...</td>\n",
              "      <td>...</td>\n",
              "      <td>...</td>\n",
              "      <td>...</td>\n",
              "      <td>...</td>\n",
              "      <td>...</td>\n",
              "    </tr>\n",
              "    <tr>\n",
              "      <th>99995</th>\n",
              "      <td>Female</td>\n",
              "      <td>80.0</td>\n",
              "      <td>0</td>\n",
              "      <td>0</td>\n",
              "      <td>No Info</td>\n",
              "      <td>27.32</td>\n",
              "      <td>6.2</td>\n",
              "      <td>90</td>\n",
              "      <td>0</td>\n",
              "    </tr>\n",
              "    <tr>\n",
              "      <th>99996</th>\n",
              "      <td>Female</td>\n",
              "      <td>2.0</td>\n",
              "      <td>0</td>\n",
              "      <td>0</td>\n",
              "      <td>No Info</td>\n",
              "      <td>17.37</td>\n",
              "      <td>6.5</td>\n",
              "      <td>100</td>\n",
              "      <td>0</td>\n",
              "    </tr>\n",
              "    <tr>\n",
              "      <th>99997</th>\n",
              "      <td>Male</td>\n",
              "      <td>66.0</td>\n",
              "      <td>0</td>\n",
              "      <td>0</td>\n",
              "      <td>former</td>\n",
              "      <td>27.83</td>\n",
              "      <td>5.7</td>\n",
              "      <td>155</td>\n",
              "      <td>0</td>\n",
              "    </tr>\n",
              "    <tr>\n",
              "      <th>99998</th>\n",
              "      <td>Female</td>\n",
              "      <td>24.0</td>\n",
              "      <td>0</td>\n",
              "      <td>0</td>\n",
              "      <td>never</td>\n",
              "      <td>35.42</td>\n",
              "      <td>4.0</td>\n",
              "      <td>100</td>\n",
              "      <td>0</td>\n",
              "    </tr>\n",
              "    <tr>\n",
              "      <th>99999</th>\n",
              "      <td>Female</td>\n",
              "      <td>57.0</td>\n",
              "      <td>0</td>\n",
              "      <td>0</td>\n",
              "      <td>current</td>\n",
              "      <td>22.43</td>\n",
              "      <td>6.6</td>\n",
              "      <td>90</td>\n",
              "      <td>0</td>\n",
              "    </tr>\n",
              "  </tbody>\n",
              "</table>\n",
              "<p>100000 rows × 9 columns</p>\n",
              "</div>\n",
              "      <button class=\"colab-df-convert\" onclick=\"convertToInteractive('df-4874962b-cba0-4079-b622-440e1d13a702')\"\n",
              "              title=\"Convert this dataframe to an interactive table.\"\n",
              "              style=\"display:none;\">\n",
              "        \n",
              "  <svg xmlns=\"http://www.w3.org/2000/svg\" height=\"24px\"viewBox=\"0 0 24 24\"\n",
              "       width=\"24px\">\n",
              "    <path d=\"M0 0h24v24H0V0z\" fill=\"none\"/>\n",
              "    <path d=\"M18.56 5.44l.94 2.06.94-2.06 2.06-.94-2.06-.94-.94-2.06-.94 2.06-2.06.94zm-11 1L8.5 8.5l.94-2.06 2.06-.94-2.06-.94L8.5 2.5l-.94 2.06-2.06.94zm10 10l.94 2.06.94-2.06 2.06-.94-2.06-.94-.94-2.06-.94 2.06-2.06.94z\"/><path d=\"M17.41 7.96l-1.37-1.37c-.4-.4-.92-.59-1.43-.59-.52 0-1.04.2-1.43.59L10.3 9.45l-7.72 7.72c-.78.78-.78 2.05 0 2.83L4 21.41c.39.39.9.59 1.41.59.51 0 1.02-.2 1.41-.59l7.78-7.78 2.81-2.81c.8-.78.8-2.07 0-2.86zM5.41 20L4 18.59l7.72-7.72 1.47 1.35L5.41 20z\"/>\n",
              "  </svg>\n",
              "      </button>\n",
              "      \n",
              "  <style>\n",
              "    .colab-df-container {\n",
              "      display:flex;\n",
              "      flex-wrap:wrap;\n",
              "      gap: 12px;\n",
              "    }\n",
              "\n",
              "    .colab-df-convert {\n",
              "      background-color: #E8F0FE;\n",
              "      border: none;\n",
              "      border-radius: 50%;\n",
              "      cursor: pointer;\n",
              "      display: none;\n",
              "      fill: #1967D2;\n",
              "      height: 32px;\n",
              "      padding: 0 0 0 0;\n",
              "      width: 32px;\n",
              "    }\n",
              "\n",
              "    .colab-df-convert:hover {\n",
              "      background-color: #E2EBFA;\n",
              "      box-shadow: 0px 1px 2px rgba(60, 64, 67, 0.3), 0px 1px 3px 1px rgba(60, 64, 67, 0.15);\n",
              "      fill: #174EA6;\n",
              "    }\n",
              "\n",
              "    [theme=dark] .colab-df-convert {\n",
              "      background-color: #3B4455;\n",
              "      fill: #D2E3FC;\n",
              "    }\n",
              "\n",
              "    [theme=dark] .colab-df-convert:hover {\n",
              "      background-color: #434B5C;\n",
              "      box-shadow: 0px 1px 3px 1px rgba(0, 0, 0, 0.15);\n",
              "      filter: drop-shadow(0px 1px 2px rgba(0, 0, 0, 0.3));\n",
              "      fill: #FFFFFF;\n",
              "    }\n",
              "  </style>\n",
              "\n",
              "      <script>\n",
              "        const buttonEl =\n",
              "          document.querySelector('#df-4874962b-cba0-4079-b622-440e1d13a702 button.colab-df-convert');\n",
              "        buttonEl.style.display =\n",
              "          google.colab.kernel.accessAllowed ? 'block' : 'none';\n",
              "\n",
              "        async function convertToInteractive(key) {\n",
              "          const element = document.querySelector('#df-4874962b-cba0-4079-b622-440e1d13a702');\n",
              "          const dataTable =\n",
              "            await google.colab.kernel.invokeFunction('convertToInteractive',\n",
              "                                                     [key], {});\n",
              "          if (!dataTable) return;\n",
              "\n",
              "          const docLinkHtml = 'Like what you see? Visit the ' +\n",
              "            '<a target=\"_blank\" href=https://colab.research.google.com/notebooks/data_table.ipynb>data table notebook</a>'\n",
              "            + ' to learn more about interactive tables.';\n",
              "          element.innerHTML = '';\n",
              "          dataTable['output_type'] = 'display_data';\n",
              "          await google.colab.output.renderOutput(dataTable, element);\n",
              "          const docLink = document.createElement('div');\n",
              "          docLink.innerHTML = docLinkHtml;\n",
              "          element.appendChild(docLink);\n",
              "        }\n",
              "      </script>\n",
              "    </div>\n",
              "  </div>\n",
              "  "
            ]
          },
          "metadata": {},
          "execution_count": 36
        }
      ]
    },
    {
      "cell_type": "code",
      "source": [
        "diabetDataset.columns"
      ],
      "metadata": {
        "colab": {
          "base_uri": "https://localhost:8080/"
        },
        "id": "M-4qfQmLQljr",
        "outputId": "f2fb94fb-c593-4ebc-b1d1-e138eaab072d"
      },
      "execution_count": 37,
      "outputs": [
        {
          "output_type": "execute_result",
          "data": {
            "text/plain": [
              "Index(['gender', 'age', 'hypertension', 'heart_disease', 'smoking_history',\n",
              "       'bmi', 'HbA1c_level', 'blood_glucose_level', 'diabetes'],\n",
              "      dtype='object')"
            ]
          },
          "metadata": {},
          "execution_count": 37
        }
      ]
    },
    {
      "cell_type": "code",
      "source": [
        "diabetDataset.diabetes"
      ],
      "metadata": {
        "colab": {
          "base_uri": "https://localhost:8080/"
        },
        "id": "ZVCKPOw0Qq-1",
        "outputId": "207b941e-ce08-47d2-8fc5-ad582ea2e45a"
      },
      "execution_count": 38,
      "outputs": [
        {
          "output_type": "execute_result",
          "data": {
            "text/plain": [
              "0        0\n",
              "1        0\n",
              "2        0\n",
              "3        0\n",
              "4        0\n",
              "        ..\n",
              "99995    0\n",
              "99996    0\n",
              "99997    0\n",
              "99998    0\n",
              "99999    0\n",
              "Name: diabetes, Length: 100000, dtype: int64"
            ]
          },
          "metadata": {},
          "execution_count": 38
        }
      ]
    },
    {
      "cell_type": "code",
      "source": [
        "#hapus kolom gender\n",
        "diabetDataset = diabetDataset.drop(labels=\"gender\", axis=1)"
      ],
      "metadata": {
        "id": "lFDc_yFERRjo"
      },
      "execution_count": 39,
      "outputs": []
    },
    {
      "cell_type": "code",
      "source": [
        "#hapus kolom smoking history\n",
        "diabetDataset = diabetDataset.drop(labels=\"smoking_history\", axis=1)"
      ],
      "metadata": {
        "id": "tgcTX9y-SWR0"
      },
      "execution_count": 40,
      "outputs": []
    },
    {
      "cell_type": "code",
      "source": [
        "#ubah dataFrame ke array\n",
        "diabetDataset = diabetDataset.to_numpy()"
      ],
      "metadata": {
        "id": "lYjal2ggQ27Q"
      },
      "execution_count": 41,
      "outputs": []
    },
    {
      "cell_type": "code",
      "source": [
        "print(diabetDataset)"
      ],
      "metadata": {
        "colab": {
          "base_uri": "https://localhost:8080/"
        },
        "id": "yyTF9Ut4Q8tk",
        "outputId": "804749d7-db90-4345-be6d-097ce6f00139"
      },
      "execution_count": 42,
      "outputs": [
        {
          "output_type": "stream",
          "name": "stdout",
          "text": [
            "[[ 80.    0.    1.  ...   6.6 140.    0. ]\n",
            " [ 54.    0.    0.  ...   6.6  80.    0. ]\n",
            " [ 28.    0.    0.  ...   5.7 158.    0. ]\n",
            " ...\n",
            " [ 66.    0.    0.  ...   5.7 155.    0. ]\n",
            " [ 24.    0.    0.  ...   4.  100.    0. ]\n",
            " [ 57.    0.    0.  ...   6.6  90.    0. ]]\n"
          ]
        }
      ]
    },
    {
      "cell_type": "code",
      "source": [
        "#membagi dataset mjd 80 baris untuk train dan 20 test\n",
        "dataTrain = np.concatenate((diabetDataset[0:40, :], diabetDataset[50:90, :]),\n",
        "                           axis=0)\n",
        "dataTest = np.concatenate((diabetDataset[40:50, :], diabetDataset[50:100, :]),\n",
        "                           axis=0)"
      ],
      "metadata": {
        "id": "n_7O45EZRBev"
      },
      "execution_count": 56,
      "outputs": []
    },
    {
      "cell_type": "code",
      "source": [
        "print(dataTrain)\n",
        "len(dataTrain)"
      ],
      "metadata": {
        "colab": {
          "base_uri": "https://localhost:8080/"
        },
        "id": "yh82XGQmSQpa",
        "outputId": "066bf898-b54c-4f7e-d905-60848a37da3d"
      },
      "execution_count": 57,
      "outputs": [
        {
          "output_type": "stream",
          "name": "stdout",
          "text": [
            "[[ 80.     0.     1.    25.19   6.6  140.     0.  ]\n",
            " [ 54.     0.     0.    27.32   6.6   80.     0.  ]\n",
            " [ 28.     0.     0.    27.32   5.7  158.     0.  ]\n",
            " [ 36.     0.     0.    23.45   5.   155.     0.  ]\n",
            " [ 76.     1.     1.    20.14   4.8  155.     0.  ]\n",
            " [ 20.     0.     0.    27.32   6.6   85.     0.  ]\n",
            " [ 44.     0.     0.    19.31   6.5  200.     1.  ]\n",
            " [ 79.     0.     0.    23.86   5.7   85.     0.  ]\n",
            " [ 42.     0.     0.    33.64   4.8  145.     0.  ]\n",
            " [ 32.     0.     0.    27.32   5.   100.     0.  ]\n",
            " [ 53.     0.     0.    27.32   6.1   85.     0.  ]\n",
            " [ 54.     0.     0.    54.7    6.   100.     0.  ]\n",
            " [ 78.     0.     0.    36.05   5.   130.     0.  ]\n",
            " [ 67.     0.     0.    25.69   5.8  200.     0.  ]\n",
            " [ 76.     0.     0.    27.32   5.   160.     0.  ]\n",
            " [ 78.     0.     0.    27.32   6.6  126.     0.  ]\n",
            " [ 15.     0.     0.    30.36   6.1  200.     0.  ]\n",
            " [ 42.     0.     0.    24.48   5.7  158.     0.  ]\n",
            " [ 42.     0.     0.    27.32   5.7   80.     0.  ]\n",
            " [ 37.     0.     0.    25.72   3.5  159.     0.  ]\n",
            " [ 40.     0.     0.    36.38   6.    90.     0.  ]\n",
            " [  5.     0.     0.    18.8    6.2   85.     0.  ]\n",
            " [ 69.     0.     0.    21.24   4.8   85.     0.  ]\n",
            " [ 72.     0.     1.    27.94   6.5  130.     0.  ]\n",
            " [  4.     0.     0.    13.99   4.   140.     0.  ]\n",
            " [ 30.     0.     0.    33.76   6.1  126.     0.  ]\n",
            " [ 67.     0.     1.    27.32   6.5  200.     1.  ]\n",
            " [ 40.     0.     0.    27.85   5.8   80.     0.  ]\n",
            " [ 45.     1.     0.    26.47   4.   158.     0.  ]\n",
            " [ 43.     0.     0.    26.08   6.1  155.     0.  ]\n",
            " [ 53.     0.     0.    31.75   4.   200.     0.  ]\n",
            " [ 50.     0.     0.    25.15   4.   145.     0.  ]\n",
            " [ 41.     0.     0.    22.01   6.2  126.     0.  ]\n",
            " [ 20.     0.     0.    22.19   3.5  100.     0.  ]\n",
            " [ 76.     0.     0.    23.55   5.    85.     0.  ]\n",
            " [  5.     0.     0.    15.1    5.8   85.     0.  ]\n",
            " [ 15.     0.     0.    21.76   4.5  130.     0.  ]\n",
            " [ 26.     0.     0.    21.22   6.6  200.     0.  ]\n",
            " [ 50.     1.     0.    27.32   5.7  260.     1.  ]\n",
            " [ 34.     0.     0.    56.43   6.2  200.     0.  ]\n",
            " [ 57.     0.     0.    27.32   6.1  155.     0.  ]\n",
            " [ 26.     0.     0.    27.32   4.   200.     0.  ]\n",
            " [ 74.     0.     0.    28.12   5.   100.     0.  ]\n",
            " [ 53.     0.     0.    27.32   7.   159.     1.  ]\n",
            " [ 45.     1.     0.    23.05   4.8  130.     0.  ]\n",
            " [ 50.     0.     0.    37.16   9.   159.     1.  ]\n",
            " [ 30.     0.     0.    27.32   6.6  140.     0.  ]\n",
            " [ 19.     0.     0.    23.35   3.5  155.     0.  ]\n",
            " [ 46.     0.     0.    24.41   5.   140.     0.  ]\n",
            " [ 67.     0.     0.    63.48   8.8  155.     1.  ]\n",
            " [ 44.     1.     0.    27.86   6.6  145.     0.  ]\n",
            " [ 21.     0.     0.    26.1    5.8  140.     0.  ]\n",
            " [ 30.     0.     0.    27.32   6.5  158.     0.  ]\n",
            " [ 59.     0.     0.    27.32   6.   159.     0.  ]\n",
            " [ 27.     0.     0.    30.22   5.7  100.     0.  ]\n",
            " [ 59.     0.     1.    23.11   6.5  200.     0.  ]\n",
            " [ 19.     0.     0.    27.32   5.7  145.     0.  ]\n",
            " [ 13.     0.     0.    28.16   5.    90.     0.  ]\n",
            " [ 56.     0.     0.    26.78   4.8  200.     0.  ]\n",
            " [  2.     0.     0.    23.04   5.7  160.     0.  ]\n",
            " [  7.     0.     0.    15.94   5.8  158.     0.  ]\n",
            " [  3.     0.     0.    15.8    6.2   90.     0.  ]\n",
            " [ 30.     0.     0.    27.01   6.2  145.     0.  ]\n",
            " [ 43.     0.     0.    27.32   3.5  126.     0.  ]\n",
            " [ 76.     0.     0.    22.19   6.6  158.     0.  ]\n",
            " [ 41.     0.     0.    27.45   5.7  130.     0.  ]\n",
            " [ 11.     0.     0.    17.98   6.5  159.     0.  ]\n",
            " [ 26.     0.     0.    26.45   5.7  158.     0.  ]\n",
            " [ 34.     0.     0.    31.16   5.8   90.     0.  ]\n",
            " [ 80.     0.     0.    24.42   4.   160.     0.  ]\n",
            " [ 37.     0.     0.    30.5    5.7  159.     0.  ]\n",
            " [ 57.     0.     0.    27.32   8.2  126.     1.  ]\n",
            " [ 53.     0.     0.    26.37   4.5  200.     0.  ]\n",
            " [ 54.     0.     0.    31.86   6.6  145.     0.  ]\n",
            " [ 37.     0.     0.    21.25   6.1  200.     0.  ]\n",
            " [ 56.     0.     0.    30.95   6.5  145.     0.  ]\n",
            " [ 79.     0.     0.    31.19   5.8  155.     0.  ]\n",
            " [ 36.     0.     0.    32.27   6.2  220.     1.  ]\n",
            " [ 38.     0.     0.    22.42   6.    85.     0.  ]\n",
            " [  6.     0.     0.    16.39   6.6  200.     0.  ]]\n"
          ]
        },
        {
          "output_type": "execute_result",
          "data": {
            "text/plain": [
              "80"
            ]
          },
          "metadata": {},
          "execution_count": 57
        }
      ]
    },
    {
      "cell_type": "code",
      "source": [
        "print(dataTest)\n",
        "len(dataTest)"
      ],
      "metadata": {
        "colab": {
          "base_uri": "https://localhost:8080/"
        },
        "id": "xgYWk2nWSsVb",
        "outputId": "8d45a5df-d683-434a-fbaa-c03d6b36bb83"
      },
      "execution_count": 58,
      "outputs": [
        {
          "output_type": "stream",
          "name": "stdout",
          "text": [
            "[[ 73.     0.     0.    25.91   9.   160.     1.  ]\n",
            " [  5.     0.     0.    27.32   6.6  130.     0.  ]\n",
            " [ 77.     1.     1.    32.02   5.   159.     0.  ]\n",
            " [ 66.     0.     0.    29.3    4.8  159.     0.  ]\n",
            " [ 67.     0.     0.    27.32   3.5  160.     0.  ]\n",
            " [ 44.     0.     0.    24.93   6.1  100.     0.  ]\n",
            " [ 29.     0.     0.    19.95   5.    90.     0.  ]\n",
            " [ 60.     0.     0.    18.03   4.   159.     0.  ]\n",
            " [ 38.     0.     0.    28.27   6.2  155.     0.  ]\n",
            " [  3.     0.     0.    19.27   6.5  100.     0.  ]\n",
            " [ 57.     0.     0.    27.32   6.1  155.     0.  ]\n",
            " [ 26.     0.     0.    27.32   4.   200.     0.  ]\n",
            " [ 74.     0.     0.    28.12   5.   100.     0.  ]\n",
            " [ 53.     0.     0.    27.32   7.   159.     1.  ]\n",
            " [ 45.     1.     0.    23.05   4.8  130.     0.  ]\n",
            " [ 50.     0.     0.    37.16   9.   159.     1.  ]\n",
            " [ 30.     0.     0.    27.32   6.6  140.     0.  ]\n",
            " [ 19.     0.     0.    23.35   3.5  155.     0.  ]\n",
            " [ 46.     0.     0.    24.41   5.   140.     0.  ]\n",
            " [ 67.     0.     0.    63.48   8.8  155.     1.  ]\n",
            " [ 44.     1.     0.    27.86   6.6  145.     0.  ]\n",
            " [ 21.     0.     0.    26.1    5.8  140.     0.  ]\n",
            " [ 30.     0.     0.    27.32   6.5  158.     0.  ]\n",
            " [ 59.     0.     0.    27.32   6.   159.     0.  ]\n",
            " [ 27.     0.     0.    30.22   5.7  100.     0.  ]\n",
            " [ 59.     0.     1.    23.11   6.5  200.     0.  ]\n",
            " [ 19.     0.     0.    27.32   5.7  145.     0.  ]\n",
            " [ 13.     0.     0.    28.16   5.    90.     0.  ]\n",
            " [ 56.     0.     0.    26.78   4.8  200.     0.  ]\n",
            " [  2.     0.     0.    23.04   5.7  160.     0.  ]\n",
            " [  7.     0.     0.    15.94   5.8  158.     0.  ]\n",
            " [  3.     0.     0.    15.8    6.2   90.     0.  ]\n",
            " [ 30.     0.     0.    27.01   6.2  145.     0.  ]\n",
            " [ 43.     0.     0.    27.32   3.5  126.     0.  ]\n",
            " [ 76.     0.     0.    22.19   6.6  158.     0.  ]\n",
            " [ 41.     0.     0.    27.45   5.7  130.     0.  ]\n",
            " [ 11.     0.     0.    17.98   6.5  159.     0.  ]\n",
            " [ 26.     0.     0.    26.45   5.7  158.     0.  ]\n",
            " [ 34.     0.     0.    31.16   5.8   90.     0.  ]\n",
            " [ 80.     0.     0.    24.42   4.   160.     0.  ]\n",
            " [ 37.     0.     0.    30.5    5.7  159.     0.  ]\n",
            " [ 57.     0.     0.    27.32   8.2  126.     1.  ]\n",
            " [ 53.     0.     0.    26.37   4.5  200.     0.  ]\n",
            " [ 54.     0.     0.    31.86   6.6  145.     0.  ]\n",
            " [ 37.     0.     0.    21.25   6.1  200.     0.  ]\n",
            " [ 56.     0.     0.    30.95   6.5  145.     0.  ]\n",
            " [ 79.     0.     0.    31.19   5.8  155.     0.  ]\n",
            " [ 36.     0.     0.    32.27   6.2  220.     1.  ]\n",
            " [ 38.     0.     0.    22.42   6.    85.     0.  ]\n",
            " [  6.     0.     0.    16.39   6.6  200.     0.  ]\n",
            " [ 42.     0.     0.    17.46   6.2  155.     0.  ]\n",
            " [ 44.     0.     0.    37.35   5.7  145.     0.  ]\n",
            " [ 54.     0.     0.    32.85   5.   160.     0.  ]\n",
            " [ 38.     0.     0.    55.61   6.5  130.     0.  ]\n",
            " [ 60.     0.     0.    27.32   7.5  300.     1.  ]\n",
            " [ 19.     0.     0.    27.32   6.1   80.     0.  ]\n",
            " [ 67.     0.     0.    27.32   6.2  159.     1.  ]\n",
            " [ 11.     0.     0.    27.32   6.1   90.     0.  ]\n",
            " [ 30.     0.     0.    50.13   6.   100.     0.  ]\n",
            " [ 29.     0.     0.    27.32   4.8  158.     0.  ]]\n"
          ]
        },
        {
          "output_type": "execute_result",
          "data": {
            "text/plain": [
              "60"
            ]
          },
          "metadata": {},
          "execution_count": 58
        }
      ]
    },
    {
      "cell_type": "code",
      "source": [
        "#bagi dataset ke input dan label\n",
        "xTrain = dataTrain[:, 1:6]\n",
        "xTest = dataTest[:, 1:6]\n",
        "yTrain = dataTrain[:, 6]\n",
        "yTest = dataTest[:, 6]"
      ],
      "metadata": {
        "id": "1A6CS_kTTh7k"
      },
      "execution_count": 67,
      "outputs": []
    },
    {
      "cell_type": "code",
      "source": [
        "#definisi DecisionTreeClassifier\n",
        "model = tree.DecisionTreeClassifier()"
      ],
      "metadata": {
        "id": "HbyttvBHTwmq"
      },
      "execution_count": 68,
      "outputs": []
    },
    {
      "cell_type": "code",
      "source": [
        "#training model\n",
        "model = model.fit(xTrain, yTrain)"
      ],
      "metadata": {
        "id": "Tk8CJi25T0C7"
      },
      "execution_count": 69,
      "outputs": []
    },
    {
      "cell_type": "code",
      "source": [
        "#prediksi Data Testing\n",
        "hasilPrediksi = model.predict(xTest)\n",
        "print(\"Label Sebenarnya : \", yTest)\n",
        "print(\"Hasil Prediksi : \", hasilPrediksi)"
      ],
      "metadata": {
        "colab": {
          "base_uri": "https://localhost:8080/"
        },
        "id": "s5A6pWyqT0ho",
        "outputId": "2f3a55ec-2741-4c20-dd51-8dced5bb83fe"
      },
      "execution_count": 70,
      "outputs": [
        {
          "output_type": "stream",
          "name": "stdout",
          "text": [
            "Label Sebenarnya :  [1. 0. 0. 0. 0. 0. 0. 0. 0. 0. 0. 0. 0. 1. 0. 1. 0. 0. 0. 1. 0. 0. 0. 0.\n",
            " 0. 0. 0. 0. 0. 0. 0. 0. 0. 0. 0. 0. 0. 0. 0. 0. 0. 1. 0. 0. 0. 0. 0. 1.\n",
            " 0. 0. 0. 0. 0. 0. 1. 0. 1. 0. 0. 0.]\n",
            "Hasil Prediksi :  [1. 0. 0. 0. 0. 0. 0. 0. 0. 0. 0. 0. 0. 1. 0. 1. 0. 0. 0. 1. 0. 0. 0. 0.\n",
            " 0. 0. 0. 0. 0. 0. 0. 0. 0. 0. 0. 0. 0. 0. 0. 0. 0. 1. 0. 0. 0. 0. 0. 1.\n",
            " 0. 0. 0. 0. 0. 0. 1. 0. 0. 0. 0. 0.]\n"
          ]
        }
      ]
    },
    {
      "cell_type": "code",
      "source": [
        "#hitung akurasi\n",
        "prediksiBenar = (hasilPrediksi == yTest).sum()\n",
        "prediksiSalah = (hasilPrediksi != yTest).sum()\n",
        "print(\"Prediksi Benar :\", prediksiBenar, \"data\")\n",
        "print(\"Prediksi Salah :\", prediksiSalah, \"data\")\n",
        "print(\"Akurasi :\", prediksiBenar/(prediksiBenar+prediksiSalah) * 100, \"%\")"
      ],
      "metadata": {
        "colab": {
          "base_uri": "https://localhost:8080/"
        },
        "id": "5x247KXfU_FK",
        "outputId": "1a053cf0-7a47-4a61-821d-b1a32d36f170"
      },
      "execution_count": 72,
      "outputs": [
        {
          "output_type": "stream",
          "name": "stdout",
          "text": [
            "Prediksi Benar : 59 data\n",
            "Prediksi Salah : 1 data\n",
            "Akurasi : 98.33333333333333 %\n"
          ]
        }
      ]
    },
    {
      "cell_type": "code",
      "source": [
        "from sklearn.tree import DecisionTreeClassifier, export_graphviz\n",
        "from IPython.display import Image\n",
        "import graphviz\n",
        "import pydotplus\n",
        "# Train the decision tree classifier\n",
        "clf = DecisionTreeClassifier()\n",
        "clf.fit(xTrain, yTrain)\n",
        "\n",
        "# Export the trained decision tree to a DOT file\n",
        "dot_data = export_graphviz(clf, out_file=None,\n",
        "                           class_names=['No','Yes'],\n",
        "                           filled=True, rounded=True,  \n",
        "                           special_characters=True)\n",
        "graph = graphviz.Source(dot_data)\n",
        "\n",
        "# Save the decision tree as a PNG image\n",
        "graph.format = 'png'\n",
        "graph.render('diabetes_decision_tree', view=True)"
      ],
      "metadata": {
        "colab": {
          "base_uri": "https://localhost:8080/",
          "height": 35
        },
        "id": "64OkHB2hVGBV",
        "outputId": "5caf18b4-271f-4f78-8086-d13077e02c37"
      },
      "execution_count": 76,
      "outputs": [
        {
          "output_type": "execute_result",
          "data": {
            "text/plain": [
              "'diabetes_decision_tree.png'"
            ],
            "application/vnd.google.colaboratory.intrinsic+json": {
              "type": "string"
            }
          },
          "metadata": {},
          "execution_count": 76
        }
      ]
    }
  ]
}