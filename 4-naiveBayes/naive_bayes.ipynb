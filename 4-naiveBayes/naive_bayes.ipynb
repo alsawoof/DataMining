{
  "nbformat": 4,
  "nbformat_minor": 0,
  "metadata": {
    "colab": {
      "provenance": []
    },
    "kernelspec": {
      "name": "python3",
      "display_name": "Python 3"
    },
    "language_info": {
      "name": "python"
    }
  },
  "cells": [
    {
      "cell_type": "code",
      "execution_count": 1,
      "metadata": {
        "id": "xCsvGBlakBGA"
      },
      "outputs": [],
      "source": [
        "import numpy as np\n",
        "import matplotlib.pyplot as plt\n",
        "import pandas as pd"
      ]
    },
    {
      "cell_type": "code",
      "source": [
        "dataset = pd.read_csv(\"exammod.csv\")\n",
        "x = dataset.iloc[:, [6,7]].values\n",
        "y = dataset.iloc[:, -1].values"
      ],
      "metadata": {
        "id": "0EMyBdXWlisj"
      },
      "execution_count": 3,
      "outputs": []
    },
    {
      "cell_type": "code",
      "source": [
        "print(x)"
      ],
      "metadata": {
        "colab": {
          "base_uri": "https://localhost:8080/"
        },
        "id": "bMSLlGO2mR1e",
        "outputId": "460ed844-832a-4c29-f347-7473950ddb9b"
      },
      "execution_count": 4,
      "outputs": [
        {
          "output_type": "stream",
          "name": "stdout",
          "text": [
            "[[70 78]\n",
            " [93 87]\n",
            " [76 77]\n",
            " ...\n",
            " [86 86]\n",
            " [72 62]\n",
            " [47 45]]\n"
          ]
        }
      ]
    },
    {
      "cell_type": "code",
      "source": [
        "from sklearn.preprocessing import LabelEncoder\n",
        "le = LabelEncoder()\n",
        "y = le.fit_transform(y)"
      ],
      "metadata": {
        "id": "bLN5BP9Tmnej"
      },
      "execution_count": 6,
      "outputs": []
    },
    {
      "cell_type": "code",
      "source": [
        "print(y)"
      ],
      "metadata": {
        "colab": {
          "base_uri": "https://localhost:8080/"
        },
        "id": "ncU9rZAXmdsK",
        "outputId": "84131de7-eed1-4880-b98e-58034ce38b33"
      },
      "execution_count": 7,
      "outputs": [
        {
          "output_type": "stream",
          "name": "stdout",
          "text": [
            "[0 1 1 1 1 1 1 1 1 0 1 1 1 1 1 1 1 1 1 0 1 0 1 1 0 1 1 1 1 1 0 1 0 1 0 1 1\n",
            " 0 0 1 0 0 1 1 1 1 0 0 1 0 0 0 1 0 1 1 1 0 1 1 0 0 1 1 1 1 1 0 1 1 0 0 1 0\n",
            " 0 1 0 1 0 1 1 0 1 0 1 1 0 1 1 1 0 1 1 1 1 0 0 1 0 1 1 1 1 1 1 1 0 1 0 1 0\n",
            " 1 0 0 0 1 1 0 1 1 0 1 0 1 0 1 0 0 1 1 1 1 0 1 0 1 1 1 1 1 1 1 1 1 1 0 1 1\n",
            " 1 1 0 1 1 1 1 1 0 0 0 1 1 1 0 0 1 1 1 1 0 0 0 1 0 1 1 1 1 1 0 1 1 1 1 0 0\n",
            " 1 1 1 1 1 1 0 1 0 1 1 0 1 0 0 0 1 1 1 1 1 1 1 1 0 1 0 1 1 1 0 1 0 1 1 1 0\n",
            " 0 1 1 1 0 1 1 1 0 1 1 1 0 1 0 0 0 1 0 1 1 1 0 0 0 1 0 1 1 1 0 0 1 1 1 0 0\n",
            " 1 1 0 1 1 1 1 1 1 1 0 1 0 1 1 1 1 1 0 1 1 1 1 1 1 0 0 1 1 1 1 1 1 1 1 1 1\n",
            " 0 1 1 0 1 1 0 1 0 0 1 1 0 1 0 1 0 1 1 1 1 1 1 1 0 1 0 0 1 1 1 1 0 1 1 1 1\n",
            " 1 1 1 1 0 0 0 1 1 1 0 1 1 1 1 1 1 1 1 1 1 0 1 0 1 0 0 1 1 0 1 0 0 1 0 1 1\n",
            " 1 0 0 1 1 1 1 0 0 0 0 1 1 1 0 1 0 0 1 0 1 1 1 1 1 0 1 1 1 1 1 1 1 1 1 0 1\n",
            " 1 0 1 0 1 1 0 1 1 1 1 1 0 1 0 0 1 0 1 1 0 1 1 1 1 0 1 1 0 0 1 0 1 1 1 1 0\n",
            " 0 0 1 1 1 1 1 1 1 1 1 1 1 0 1 1 1 0 1 1 1 0 0 1 1 0 1 0 0 0 1 1 0 1 1 1 1\n",
            " 1 1 1 1 0 1 0 0 0 1 0 1 1 0 1 1 1 1 1 1 0 1 1 0 0 1 1 0 1 0 1 1 1 1 0 0 1\n",
            " 0 0 1 0 0 0 1 0 1 0 0 1 0 0 1 0 0 0 0 1 0 0 0 1 1 0 1 1 1 1 0 0 1 0 1 1 1\n",
            " 0 0 1 1 0 0 1 1 1 0 1 0 0 1 0 1 1 1 1 1 0 1 1 1 1 0 1 0 1 1 1 1 1 1 0 0 1\n",
            " 1 1 1 1 0 0 1 0 1 1 1 1 1 1 1 0 0 0 1 1 0 0 0 0 0 0 0 1 1 0 1 1 0 0 1 0 1\n",
            " 0 1 0 1 0 1 0 1 0 1 1 0 1 1 0 1 0 1 1 0 1 0 0 1 0 1 1 1 0 1 1 1 0 1 0 0 0\n",
            " 1 0 0 0 1 1 0 1 1 1 0 1 1 0 0 1 1 0 1 1 1 1 1 0 1 0 1 1 0 0 1 1 1 1 1 1 1\n",
            " 1 1 1 0 0 1 1 0 1 1 1 0 1 0 1 1 0 1 0 1 0 1 1 1 1 1 1 1 0 0 1 0 1 1 0 0 0\n",
            " 0 1 1 1 1 1 1 0 1 0 1 1 1 0 1 1 0 0 1 1 0 1 1 1 1 1 0 1 1 0 1 1 0 0 1 0 1\n",
            " 0 1 0 0 1 1 1 1 1 1 1 1 1 1 1 1 1 1 1 1 0 1 1 1 1 1 0 1 1 1 1 0 0 0 1 0 0\n",
            " 1 1 1 1 0 0 1 1 1 0 1 1 1 1 1 1 1 0 0 1 1 0 0 1 1 0 0 0 1 0 0 0 1 0 0 0 1\n",
            " 1 1 0 1 1 1 0 0 1 0 0 1 1 0 0 0 1 1 1 0 1 1 1 1 0 1 0 1 1 1 1 1 1 1 1 1 1\n",
            " 1 0 1 1 1 1 1 1 0 0 1 0 1 1 0 1 1 1 1 0 1 0 0 0 0 1 0 1 1 1 1 1 1 0 1 1 1\n",
            " 1 0 1 0 1 1 1 1 1 1 1 1 1 1 1 1 0 1 1 1 1 0 1 0 1 0 1 1 0 1 1 1 1 1 0 0 0\n",
            " 0 1 1 1 1 1 1 1 1 1 0 0 0 1 1 1 1 1 1 0 1 0 1 1 1 0 1 0 1 1 0 1 1 1 1 0 1\n",
            " 1]\n"
          ]
        }
      ]
    },
    {
      "cell_type": "code",
      "source": [
        "from sklearn.model_selection import train_test_split\n",
        "x_train, x_test, y_train, y_test = train_test_split(x, y, test_size=0.25, random_state=0)"
      ],
      "metadata": {
        "id": "L7PaeE-HnBoy"
      },
      "execution_count": 8,
      "outputs": []
    },
    {
      "cell_type": "code",
      "source": [
        "print(x_train)"
      ],
      "metadata": {
        "colab": {
          "base_uri": "https://localhost:8080/"
        },
        "id": "MIY8uvr6nFJ5",
        "outputId": "814372e5-1bda-4d7c-f81b-7a85f9c7bf0c"
      },
      "execution_count": 9,
      "outputs": [
        {
          "output_type": "stream",
          "name": "stdout",
          "text": [
            "[[73 72]\n",
            " [65 69]\n",
            " [97 91]\n",
            " ...\n",
            " [58 60]\n",
            " [65 65]\n",
            " [86 88]]\n"
          ]
        }
      ]
    },
    {
      "cell_type": "code",
      "source": [
        "print(x_test)"
      ],
      "metadata": {
        "colab": {
          "base_uri": "https://localhost:8080/"
        },
        "id": "T-Py5AOvpgj1",
        "outputId": "5ab56be7-f9bd-4203-bc3f-40a151eeb7ec"
      },
      "execution_count": 12,
      "outputs": [
        {
          "output_type": "stream",
          "name": "stdout",
          "text": [
            "[[ 74  80]\n",
            " [ 75  75]\n",
            " [ 56  47]\n",
            " [ 46  50]\n",
            " [ 78  71]\n",
            " [ 66  69]\n",
            " [ 66  59]\n",
            " [ 80  83]\n",
            " [ 62  54]\n",
            " [ 81  72]\n",
            " [ 89  87]\n",
            " [ 91  81]\n",
            " [ 69  70]\n",
            " [ 56  47]\n",
            " [ 77  75]\n",
            " [ 64  61]\n",
            " [ 65  65]\n",
            " [ 71  74]\n",
            " [ 54  52]\n",
            " [ 61  59]\n",
            " [ 76  79]\n",
            " [ 53  47]\n",
            " [ 77  78]\n",
            " [ 45  46]\n",
            " [ 76  71]\n",
            " [ 63  64]\n",
            " [ 71  65]\n",
            " [ 58  60]\n",
            " [ 81  87]\n",
            " [ 93  87]\n",
            " [ 70  76]\n",
            " [ 53  53]\n",
            " [ 67  61]\n",
            " [ 77  84]\n",
            " [ 84  87]\n",
            " [ 48  46]\n",
            " [ 52  51]\n",
            " [ 83  77]\n",
            " [ 78  81]\n",
            " [ 72  75]\n",
            " [ 62  58]\n",
            " [ 66  66]\n",
            " [ 74  71]\n",
            " [ 56  56]\n",
            " [ 79  68]\n",
            " [ 86  78]\n",
            " [ 67  72]\n",
            " [ 69  64]\n",
            " [ 58  63]\n",
            " [ 56  52]\n",
            " [ 70  63]\n",
            " [ 53  51]\n",
            " [ 50  44]\n",
            " [ 68  66]\n",
            " [ 60  53]\n",
            " [ 70  70]\n",
            " [ 88  75]\n",
            " [ 88  84]\n",
            " [ 95 100]\n",
            " [ 46  44]\n",
            " [ 75  79]\n",
            " [ 98  93]\n",
            " [ 77  80]\n",
            " [ 76  67]\n",
            " [ 78  74]\n",
            " [ 89  86]\n",
            " [ 84  83]\n",
            " [ 75  84]\n",
            " [ 60  55]\n",
            " [ 74  70]\n",
            " [ 77  77]\n",
            " [ 73  74]\n",
            " [ 52  58]\n",
            " [ 66  73]\n",
            " [ 83  78]\n",
            " [ 79  75]\n",
            " [100 100]\n",
            " [ 72  76]\n",
            " [ 55  57]\n",
            " [ 72  66]\n",
            " [ 69  68]\n",
            " [ 90  90]\n",
            " [ 82  86]\n",
            " [ 27  23]\n",
            " [ 77  80]\n",
            " [ 48  46]\n",
            " [ 82  93]\n",
            " [ 57  61]\n",
            " [ 65  69]\n",
            " [ 66  66]\n",
            " [ 45  44]\n",
            " [ 58  54]\n",
            " [ 79  78]\n",
            " [ 75  78]\n",
            " [ 68  66]\n",
            " [ 70  75]\n",
            " [ 66  68]\n",
            " [ 58  56]\n",
            " [ 78  83]\n",
            " [ 72  65]\n",
            " [ 67  67]\n",
            " [ 56  56]\n",
            " [ 34  36]\n",
            " [ 60  69]\n",
            " [ 43  40]\n",
            " [ 97  95]\n",
            " [ 56  47]\n",
            " [ 90  90]\n",
            " [ 77  72]\n",
            " [ 77  77]\n",
            " [ 80  78]\n",
            " [ 40  38]\n",
            " [ 87  83]\n",
            " [ 50  61]\n",
            " [ 80  73]\n",
            " [ 64  64]\n",
            " [ 86  76]\n",
            " [ 85  81]\n",
            " [ 68  75]\n",
            " [ 32  28]\n",
            " [ 93  91]\n",
            " [ 92  90]\n",
            " [ 67  75]\n",
            " [ 62  63]\n",
            " [ 74  75]\n",
            " [ 45  52]\n",
            " [ 81  75]\n",
            " [ 68  66]\n",
            " [ 51  53]\n",
            " [ 68  66]\n",
            " [ 62  61]\n",
            " [ 71  65]\n",
            " [ 77  79]\n",
            " [ 78  77]\n",
            " [ 48  46]\n",
            " [ 67  68]\n",
            " [ 95  93]\n",
            " [ 75  73]\n",
            " [ 83  79]\n",
            " [ 59  51]\n",
            " [ 50  53]\n",
            " [ 44  53]\n",
            " [ 60  55]\n",
            " [ 62  61]\n",
            " [ 40  36]\n",
            " [ 76  82]\n",
            " [ 66  69]\n",
            " [ 71  87]\n",
            " [ 67  63]\n",
            " [ 82  82]\n",
            " [ 66  62]\n",
            " [ 81  85]\n",
            " [ 77  70]\n",
            " [ 89  89]\n",
            " [ 54  48]\n",
            " [ 77  76]\n",
            " [ 69  71]\n",
            " [ 80  82]\n",
            " [ 77  75]\n",
            " [ 79  65]\n",
            " [ 89  86]\n",
            " [ 72  78]\n",
            " [ 58  56]\n",
            " [ 67  70]\n",
            " [ 92  83]\n",
            " [100 100]\n",
            " [ 71  62]\n",
            " [ 45  42]\n",
            " [ 51  43]\n",
            " [ 48  33]\n",
            " [ 56  56]\n",
            " [ 48  49]\n",
            " [ 79  81]\n",
            " [ 47  45]\n",
            " [ 33  32]\n",
            " [ 56  57]\n",
            " [ 70  72]\n",
            " [ 91  96]\n",
            " [ 48  49]\n",
            " [ 56  60]\n",
            " [ 70  67]\n",
            " [ 47  45]\n",
            " [ 66  63]\n",
            " [ 74  80]\n",
            " [ 62  67]\n",
            " [ 66  61]\n",
            " [ 74  73]\n",
            " [ 70  71]\n",
            " [ 56  54]\n",
            " [ 81  77]\n",
            " [ 54  48]\n",
            " [ 86  88]\n",
            " [ 84  88]\n",
            " [ 57  54]\n",
            " [ 51  55]\n",
            " [ 80  76]\n",
            " [ 55  50]\n",
            " [ 78  90]\n",
            " [ 95  99]\n",
            " [ 69  67]\n",
            " [ 60  59]\n",
            " [ 97  91]\n",
            " [ 63  63]\n",
            " [ 84  78]\n",
            " [ 69  63]\n",
            " [ 56  52]\n",
            " [ 76  71]\n",
            " [ 75  81]\n",
            " [ 85  84]\n",
            " [ 45  44]\n",
            " [ 64  63]\n",
            " [ 67  72]\n",
            " [ 66  72]\n",
            " [ 53  55]\n",
            " [ 61  57]\n",
            " [ 67  67]\n",
            " [ 79  80]\n",
            " [ 76  81]\n",
            " [ 46  48]\n",
            " [ 69  56]\n",
            " [ 57  55]\n",
            " [ 56  57]\n",
            " [ 74  74]\n",
            " [ 79  79]\n",
            " [ 73  77]\n",
            " [ 65  56]\n",
            " [ 62  63]\n",
            " [ 65  56]\n",
            " [ 82  85]\n",
            " [ 79  76]\n",
            " [ 90  90]\n",
            " [ 82  82]\n",
            " [ 52  45]\n",
            " [ 67  62]\n",
            " [ 83  80]\n",
            " [ 61  57]\n",
            " [ 88  94]\n",
            " [ 57  53]\n",
            " [ 69  73]\n",
            " [ 89  86]\n",
            " [ 56  53]\n",
            " [ 67  73]\n",
            " [ 97  92]\n",
            " [ 57  58]\n",
            " [ 77  77]\n",
            " [ 73  69]\n",
            " [ 88  87]\n",
            " [ 76  77]\n",
            " [ 86  84]\n",
            " [ 86  87]]\n"
          ]
        }
      ]
    },
    {
      "cell_type": "code",
      "source": [
        "print(y_train)"
      ],
      "metadata": {
        "colab": {
          "base_uri": "https://localhost:8080/"
        },
        "id": "CsgC0PIpnVI1",
        "outputId": "b195e844-d255-4a92-dabb-132f265b6749"
      },
      "execution_count": 10,
      "outputs": [
        {
          "output_type": "stream",
          "name": "stdout",
          "text": [
            "[0 0 1 1 1 1 1 0 1 0 1 1 0 1 0 1 1 0 1 1 1 1 0 0 1 1 1 1 0 0 1 1 1 0 0 1 1\n",
            " 0 0 0 1 1 1 0 1 1 1 1 0 1 1 1 1 1 1 0 1 1 0 1 1 1 1 1 1 0 1 0 0 0 1 1 1 1\n",
            " 1 0 1 1 1 0 1 1 1 1 1 1 0 0 1 1 1 1 1 1 0 0 0 0 1 0 1 0 0 0 0 1 1 0 0 1 1\n",
            " 1 1 1 0 1 1 1 1 1 1 0 1 1 1 1 0 1 1 0 0 1 0 0 0 1 1 1 0 1 1 1 1 1 1 0 1 1\n",
            " 1 1 1 1 0 0 0 1 1 1 1 1 1 1 1 1 0 0 1 1 0 1 1 0 1 1 1 1 1 1 0 0 1 1 1 1 1\n",
            " 1 1 1 0 0 0 0 0 1 1 1 0 1 1 0 1 1 1 1 1 1 0 0 1 0 1 1 1 0 1 1 0 0 1 0 0 0\n",
            " 1 1 0 1 1 0 0 0 0 1 1 1 1 1 1 1 0 0 1 1 0 0 1 1 1 1 0 1 0 1 0 1 1 0 1 0 1\n",
            " 1 0 1 1 1 0 1 1 1 0 1 1 0 1 0 0 1 0 1 0 1 1 1 1 1 1 1 1 1 1 0 1 1 1 1 0 0\n",
            " 1 1 1 0 0 1 0 1 0 1 0 1 1 1 1 1 1 0 0 1 1 1 1 1 1 0 0 0 1 0 1 1 1 1 1 1 0\n",
            " 1 1 1 1 1 1 0 1 0 1 0 1 1 1 1 0 1 0 0 0 1 1 1 1 1 0 1 0 1 1 1 1 1 1 1 1 1\n",
            " 1 1 1 1 1 1 1 1 1 1 1 1 1 1 1 1 1 1 1 0 1 1 0 1 1 1 0 1 0 1 1 1 1 1 1 1 0\n",
            " 1 1 1 0 1 0 1 1 0 1 0 1 1 0 1 1 1 1 0 1 1 1 0 0 0 0 1 1 1 1 1 0 1 0 0 1 1\n",
            " 1 1 1 0 0 1 1 1 0 0 0 0 1 0 1 1 1 1 0 0 1 1 1 0 1 1 1 0 1 1 0 1 1 1 1 0 0\n",
            " 0 1 0 1 1 1 0 1 1 1 1 1 1 0 0 0 0 1 1 0 1 0 0 1 1 0 1 1 0 1 1 1 1 1 0 0 0\n",
            " 0 1 1 1 1 1 1 1 1 0 1 1 0 1 1 1 0 1 0 1 1 1 1 1 1 1 0 0 1 1 0 1 1 0 1 0 0\n",
            " 1 1 0 1 0 0 0 0 1 0 0 0 0 0 0 0 1 0 0 0 1 1 0 1 0 0 0 1 1 1 1 1 1 0 1 1 1\n",
            " 1 1 0 1 1 1 1 0 1 1 1 0 1 0 1 1 0 1 0 0 1 1 1 1 0 1 1 1 1 1 1 1 0 0 1 1 1\n",
            " 1 1 1 0 0 1 0 1 0 0 0 1 0 1 1 1 1 1 1 1 1 1 0 1 1 1 1 0 1 1 1 0 1 1 1 0 1\n",
            " 0 1 0 1 0 1 1 1 1 0 1 1 1 0 0 1 1 0 1 1 1 1 1 0 1 1 0 1 1 0 0 0 1 1 1 1 1\n",
            " 1 0 1 1 0 1 1 1 1 1 1 0 1 1 1 1 0 1 0 1 1 0 0 1 1 0 1 1 1 1 1 0 0 0 1 1 0\n",
            " 0 0 0 0 1 0 1 0 0 1]\n"
          ]
        }
      ]
    },
    {
      "cell_type": "code",
      "source": [
        "print(y_test)"
      ],
      "metadata": {
        "colab": {
          "base_uri": "https://localhost:8080/"
        },
        "id": "nxfPm4jboI76",
        "outputId": "8df3beda-62d7-4156-fa24-a7a35befd5f9"
      },
      "execution_count": 11,
      "outputs": [
        {
          "output_type": "stream",
          "name": "stdout",
          "text": [
            "[1 1 1 1 0 1 1 1 1 0 1 1 1 1 1 1 1 1 1 1 1 1 0 1 1 1 1 1 0 1 0 0 0 1 0 1 1\n",
            " 1 1 1 0 1 0 1 1 1 0 1 1 1 1 1 1 0 1 0 1 1 0 1 0 0 1 1 0 0 1 0 0 1 0 0 0 1\n",
            " 0 1 0 1 1 1 0 1 0 1 0 1 0 0 1 1 1 0 1 1 1 0 1 0 0 1 1 1 1 0 1 1 1 1 1 1 1\n",
            " 1 0 0 1 1 1 1 0 1 0 1 0 0 0 0 0 1 1 0 1 1 0 1 0 0 0 1 1 1 1 0 1 1 1 0 0 0\n",
            " 1 0 0 0 1 0 1 1 0 0 0 1 0 1 1 0 1 0 0 1 1 1 1 1 0 1 1 1 0 0 1 1 1 1 1 1 0\n",
            " 1 1 1 0 1 1 0 0 1 0 0 1 0 0 0 1 1 1 1 1 1 1 0 0 1 0 0 0 1 1 0 0 1 0 1 1 1\n",
            " 1 1 1 1 1 0 1 1 0 0 1 1 1 1 0 0 1 1 0 1 0 0 1 1 0 1 1 0]\n"
          ]
        }
      ]
    },
    {
      "cell_type": "code",
      "source": [
        "from sklearn.preprocessing import StandardScaler \n",
        "sc = StandardScaler()\n",
        "x_train = sc.fit_transform(x_train)\n",
        "x_test = sc.fit_transform(x_test)"
      ],
      "metadata": {
        "id": "jMp9V6bWpq-0"
      },
      "execution_count": 13,
      "outputs": []
    },
    {
      "cell_type": "code",
      "source": [
        "print(x_train)"
      ],
      "metadata": {
        "colab": {
          "base_uri": "https://localhost:8080/"
        },
        "id": "EYzfe5KqpuqO",
        "outputId": "18c1200e-7d82-4548-e658-8ebc616f41d9"
      },
      "execution_count": 15,
      "outputs": [
        {
          "output_type": "stream",
          "name": "stdout",
          "text": [
            "[[ 0.15680811  0.16889231]\n",
            " [-0.41374899 -0.03079644]\n",
            " [ 1.86847942  1.43358776]\n",
            " ...\n",
            " [-0.91298646 -0.62986271]\n",
            " [-0.41374899 -0.29704812]\n",
            " [ 1.0839634   1.233899  ]]\n"
          ]
        }
      ]
    },
    {
      "cell_type": "code",
      "source": [
        "print(x_test)"
      ],
      "metadata": {
        "colab": {
          "base_uri": "https://localhost:8080/"
        },
        "id": "y8bdyy1YpwYz",
        "outputId": "f7ad2aee-dc20-4904-bdc3-2ffce3c6b472"
      },
      "execution_count": 14,
      "outputs": [
        {
          "output_type": "stream",
          "name": "stdout",
          "text": [
            "[[ 0.34191445  0.79054843]\n",
            " [ 0.41203636  0.45636327]\n",
            " [-0.92027998 -1.41507368]\n",
            " [-1.62149911 -1.21456258]\n",
            " [ 0.6224021   0.18901513]\n",
            " [-0.21906086  0.05534106]\n",
            " [-0.21906086 -0.61302927]\n",
            " [ 0.76264592  0.99105954]\n",
            " [-0.49954851 -0.94721444]\n",
            " [ 0.83276784  0.25585216]\n",
            " [ 1.39374314  1.25840767]\n",
            " [ 1.53398696  0.85738547]\n",
            " [-0.00869512  0.1221781 ]\n",
            " [-0.92027998 -1.41507368]\n",
            " [ 0.55228018  0.45636327]\n",
            " [-0.35930468 -0.47935521]\n",
            " [-0.28918277 -0.21200707]\n",
            " [ 0.13154871  0.38952623]\n",
            " [-1.06052381 -1.08088851]\n",
            " [-0.56967042 -0.61302927]\n",
            " [ 0.48215827  0.7237114 ]\n",
            " [-1.13064572 -1.41507368]\n",
            " [ 0.55228018  0.65687437]\n",
            " [-1.69162102 -1.48191071]\n",
            " [ 0.48215827  0.18901513]\n",
            " [-0.42942659 -0.2788441 ]\n",
            " [ 0.13154871 -0.21200707]\n",
            " [-0.78003616 -0.54619224]\n",
            " [ 0.83276784  1.25840767]\n",
            " [ 1.67423079  1.25840767]\n",
            " [ 0.0614268   0.5232003 ]\n",
            " [-1.13064572 -1.01405147]\n",
            " [-0.14893894 -0.47935521]\n",
            " [ 0.55228018  1.05789657]\n",
            " [ 1.04313357  1.25840767]\n",
            " [-1.48125528 -1.48191071]\n",
            " [-1.20076763 -1.14772554]\n",
            " [ 0.97301166  0.59003733]\n",
            " [ 0.6224021   0.85738547]\n",
            " [ 0.20167062  0.45636327]\n",
            " [-0.49954851 -0.67986631]\n",
            " [-0.21906086 -0.14517004]\n",
            " [ 0.34191445  0.18901513]\n",
            " [-0.92027998 -0.81354037]\n",
            " [ 0.69252401 -0.01149597]\n",
            " [ 1.1833774   0.65687437]\n",
            " [-0.14893894  0.25585216]\n",
            " [-0.00869512 -0.2788441 ]\n",
            " [-0.78003616 -0.34568114]\n",
            " [-0.92027998 -1.08088851]\n",
            " [ 0.0614268  -0.34568114]\n",
            " [-1.13064572 -1.14772554]\n",
            " [-1.34101146 -1.61558478]\n",
            " [-0.07881703 -0.14517004]\n",
            " [-0.63979233 -1.01405147]\n",
            " [ 0.0614268   0.1221781 ]\n",
            " [ 1.32362122  0.45636327]\n",
            " [ 1.32362122  1.05789657]\n",
            " [ 1.81447461  2.12728911]\n",
            " [-1.62149911 -1.61558478]\n",
            " [ 0.41203636  0.7237114 ]\n",
            " [ 2.02484035  1.65942987]\n",
            " [ 0.55228018  0.79054843]\n",
            " [ 0.48215827 -0.078333  ]\n",
            " [ 0.6224021   0.38952623]\n",
            " [ 1.39374314  1.19157064]\n",
            " [ 1.04313357  0.99105954]\n",
            " [ 0.41203636  1.05789657]\n",
            " [-0.63979233 -0.88037741]\n",
            " [ 0.34191445  0.1221781 ]\n",
            " [ 0.55228018  0.59003733]\n",
            " [ 0.27179253  0.38952623]\n",
            " [-1.20076763 -0.67986631]\n",
            " [-0.21906086  0.3226892 ]\n",
            " [ 0.97301166  0.65687437]\n",
            " [ 0.69252401  0.45636327]\n",
            " [ 2.16508418  2.12728911]\n",
            " [ 0.20167062  0.5232003 ]\n",
            " [-0.9904019  -0.74670334]\n",
            " [ 0.20167062 -0.14517004]\n",
            " [-0.00869512 -0.01149597]\n",
            " [ 1.46386505  1.45891877]\n",
            " [ 0.90288975  1.19157064]\n",
            " [-2.95381545 -3.01916248]\n",
            " [ 0.55228018  0.79054843]\n",
            " [-1.48125528 -1.48191071]\n",
            " [ 0.90288975  1.65942987]\n",
            " [-0.85015807 -0.47935521]\n",
            " [-0.28918277  0.05534106]\n",
            " [-0.21906086 -0.14517004]\n",
            " [-1.69162102 -1.61558478]\n",
            " [-0.78003616 -0.94721444]\n",
            " [ 0.69252401  0.65687437]\n",
            " [ 0.41203636  0.65687437]\n",
            " [-0.07881703 -0.14517004]\n",
            " [ 0.0614268   0.45636327]\n",
            " [-0.21906086 -0.01149597]\n",
            " [-0.78003616 -0.81354037]\n",
            " [ 0.6224021   0.99105954]\n",
            " [ 0.20167062 -0.21200707]\n",
            " [-0.14893894 -0.078333  ]\n",
            " [-0.92027998 -0.81354037]\n",
            " [-2.46296206 -2.15028105]\n",
            " [-0.63979233  0.05534106]\n",
            " [-1.83186485 -1.88293291]\n",
            " [ 1.95471844  1.79310394]\n",
            " [-0.92027998 -1.41507368]\n",
            " [ 1.46386505  1.45891877]\n",
            " [ 0.55228018  0.25585216]\n",
            " [ 0.55228018  0.59003733]\n",
            " [ 0.76264592  0.65687437]\n",
            " [-2.04223059 -2.01660698]\n",
            " [ 1.25349931  0.99105954]\n",
            " [-1.34101146 -0.47935521]\n",
            " [ 0.76264592  0.3226892 ]\n",
            " [-0.35930468 -0.2788441 ]\n",
            " [ 1.1833774   0.5232003 ]\n",
            " [ 1.11325549  0.85738547]\n",
            " [-0.07881703  0.45636327]\n",
            " [-2.60320589 -2.68497732]\n",
            " [ 1.67423079  1.5257558 ]\n",
            " [ 1.60410888  1.45891877]\n",
            " [-0.14893894  0.45636327]\n",
            " [-0.49954851 -0.34568114]\n",
            " [ 0.34191445  0.45636327]\n",
            " [-1.69162102 -1.08088851]\n",
            " [ 0.83276784  0.45636327]\n",
            " [-0.07881703 -0.14517004]\n",
            " [-1.27088955 -1.01405147]\n",
            " [-0.07881703 -0.14517004]\n",
            " [-0.49954851 -0.47935521]\n",
            " [ 0.13154871 -0.21200707]\n",
            " [ 0.55228018  0.7237114 ]\n",
            " [ 0.6224021   0.59003733]\n",
            " [-1.48125528 -1.48191071]\n",
            " [-0.14893894 -0.01149597]\n",
            " [ 1.81447461  1.65942987]\n",
            " [ 0.41203636  0.3226892 ]\n",
            " [ 0.97301166  0.7237114 ]\n",
            " [-0.70991424 -1.14772554]\n",
            " [-1.34101146 -1.01405147]\n",
            " [-1.76174294 -1.01405147]\n",
            " [-0.63979233 -0.88037741]\n",
            " [-0.49954851 -0.47935521]\n",
            " [-2.04223059 -2.15028105]\n",
            " [ 0.48215827  0.9242225 ]\n",
            " [-0.21906086  0.05534106]\n",
            " [ 0.13154871  1.25840767]\n",
            " [-0.14893894 -0.34568114]\n",
            " [ 0.90288975  0.9242225 ]\n",
            " [-0.21906086 -0.41251817]\n",
            " [ 0.83276784  1.1247336 ]\n",
            " [ 0.55228018  0.1221781 ]\n",
            " [ 1.39374314  1.39208174]\n",
            " [-1.06052381 -1.34823664]\n",
            " [ 0.55228018  0.5232003 ]\n",
            " [-0.00869512  0.18901513]\n",
            " [ 0.76264592  0.9242225 ]\n",
            " [ 0.55228018  0.45636327]\n",
            " [ 0.69252401 -0.21200707]\n",
            " [ 1.39374314  1.19157064]\n",
            " [ 0.20167062  0.65687437]\n",
            " [-0.78003616 -0.81354037]\n",
            " [-0.14893894  0.1221781 ]\n",
            " [ 1.60410888  0.99105954]\n",
            " [ 2.16508418  2.12728911]\n",
            " [ 0.13154871 -0.41251817]\n",
            " [-1.69162102 -1.74925884]\n",
            " [-1.27088955 -1.68242181]\n",
            " [-1.48125528 -2.35079215]\n",
            " [-0.92027998 -0.81354037]\n",
            " [-1.48125528 -1.28139961]\n",
            " [ 0.69252401  0.85738547]\n",
            " [-1.5513772  -1.54874774]\n",
            " [-2.53308398 -2.41762918]\n",
            " [-0.92027998 -0.74670334]\n",
            " [ 0.0614268   0.25585216]\n",
            " [ 1.53398696  1.85994097]\n",
            " [-1.48125528 -1.28139961]\n",
            " [-0.92027998 -0.54619224]\n",
            " [ 0.0614268  -0.078333  ]\n",
            " [-1.5513772  -1.54874774]\n",
            " [-0.21906086 -0.34568114]\n",
            " [ 0.34191445  0.79054843]\n",
            " [-0.49954851 -0.078333  ]\n",
            " [-0.21906086 -0.47935521]\n",
            " [ 0.34191445  0.3226892 ]\n",
            " [ 0.0614268   0.18901513]\n",
            " [-0.92027998 -0.94721444]\n",
            " [ 0.83276784  0.59003733]\n",
            " [-1.06052381 -1.34823664]\n",
            " [ 1.1833774   1.3252447 ]\n",
            " [ 1.04313357  1.3252447 ]\n",
            " [-0.85015807 -0.94721444]\n",
            " [-1.27088955 -0.88037741]\n",
            " [ 0.76264592  0.5232003 ]\n",
            " [-0.9904019  -1.21456258]\n",
            " [ 0.6224021   1.45891877]\n",
            " [ 1.81447461  2.06045207]\n",
            " [-0.00869512 -0.078333  ]\n",
            " [-0.63979233 -0.61302927]\n",
            " [ 1.95471844  1.5257558 ]\n",
            " [-0.42942659 -0.34568114]\n",
            " [ 1.04313357  0.65687437]\n",
            " [-0.00869512 -0.34568114]\n",
            " [-0.92027998 -1.08088851]\n",
            " [ 0.48215827  0.18901513]\n",
            " [ 0.41203636  0.85738547]\n",
            " [ 1.11325549  1.05789657]\n",
            " [-1.69162102 -1.61558478]\n",
            " [-0.35930468 -0.34568114]\n",
            " [-0.14893894  0.25585216]\n",
            " [-0.21906086  0.25585216]\n",
            " [-1.13064572 -0.88037741]\n",
            " [-0.56967042 -0.74670334]\n",
            " [-0.14893894 -0.078333  ]\n",
            " [ 0.69252401  0.79054843]\n",
            " [ 0.48215827  0.85738547]\n",
            " [-1.62149911 -1.34823664]\n",
            " [-0.00869512 -0.81354037]\n",
            " [-0.85015807 -0.88037741]\n",
            " [-0.92027998 -0.74670334]\n",
            " [ 0.34191445  0.38952623]\n",
            " [ 0.69252401  0.7237114 ]\n",
            " [ 0.27179253  0.59003733]\n",
            " [-0.28918277 -0.81354037]\n",
            " [-0.49954851 -0.34568114]\n",
            " [-0.28918277 -0.81354037]\n",
            " [ 0.90288975  1.1247336 ]\n",
            " [ 0.69252401  0.5232003 ]\n",
            " [ 1.46386505  1.45891877]\n",
            " [ 0.90288975  0.9242225 ]\n",
            " [-1.20076763 -1.54874774]\n",
            " [-0.14893894 -0.41251817]\n",
            " [ 0.97301166  0.79054843]\n",
            " [-0.56967042 -0.74670334]\n",
            " [ 1.32362122  1.72626691]\n",
            " [-0.85015807 -1.01405147]\n",
            " [-0.00869512  0.3226892 ]\n",
            " [ 1.39374314  1.19157064]\n",
            " [-0.92027998 -1.01405147]\n",
            " [-0.14893894  0.3226892 ]\n",
            " [ 1.95471844  1.59259284]\n",
            " [-0.85015807 -0.67986631]\n",
            " [ 0.55228018  0.59003733]\n",
            " [ 0.27179253  0.05534106]\n",
            " [ 1.32362122  1.25840767]\n",
            " [ 0.48215827  0.59003733]\n",
            " [ 1.1833774   1.05789657]\n",
            " [ 1.1833774   1.25840767]]\n"
          ]
        }
      ]
    },
    {
      "cell_type": "code",
      "source": [
        "from sklearn.naive_bayes import GaussianNB\n",
        "classifier = GaussianNB()\n",
        "classifier.fit(x_train, y_train)"
      ],
      "metadata": {
        "colab": {
          "base_uri": "https://localhost:8080/",
          "height": 75
        },
        "id": "9O20i59ip0r5",
        "outputId": "601a1a57-ec8a-4823-b973-f237c984b787"
      },
      "execution_count": 16,
      "outputs": [
        {
          "output_type": "execute_result",
          "data": {
            "text/plain": [
              "GaussianNB()"
            ],
            "text/html": [
              "<style>#sk-container-id-1 {color: black;background-color: white;}#sk-container-id-1 pre{padding: 0;}#sk-container-id-1 div.sk-toggleable {background-color: white;}#sk-container-id-1 label.sk-toggleable__label {cursor: pointer;display: block;width: 100%;margin-bottom: 0;padding: 0.3em;box-sizing: border-box;text-align: center;}#sk-container-id-1 label.sk-toggleable__label-arrow:before {content: \"▸\";float: left;margin-right: 0.25em;color: #696969;}#sk-container-id-1 label.sk-toggleable__label-arrow:hover:before {color: black;}#sk-container-id-1 div.sk-estimator:hover label.sk-toggleable__label-arrow:before {color: black;}#sk-container-id-1 div.sk-toggleable__content {max-height: 0;max-width: 0;overflow: hidden;text-align: left;background-color: #f0f8ff;}#sk-container-id-1 div.sk-toggleable__content pre {margin: 0.2em;color: black;border-radius: 0.25em;background-color: #f0f8ff;}#sk-container-id-1 input.sk-toggleable__control:checked~div.sk-toggleable__content {max-height: 200px;max-width: 100%;overflow: auto;}#sk-container-id-1 input.sk-toggleable__control:checked~label.sk-toggleable__label-arrow:before {content: \"▾\";}#sk-container-id-1 div.sk-estimator input.sk-toggleable__control:checked~label.sk-toggleable__label {background-color: #d4ebff;}#sk-container-id-1 div.sk-label input.sk-toggleable__control:checked~label.sk-toggleable__label {background-color: #d4ebff;}#sk-container-id-1 input.sk-hidden--visually {border: 0;clip: rect(1px 1px 1px 1px);clip: rect(1px, 1px, 1px, 1px);height: 1px;margin: -1px;overflow: hidden;padding: 0;position: absolute;width: 1px;}#sk-container-id-1 div.sk-estimator {font-family: monospace;background-color: #f0f8ff;border: 1px dotted black;border-radius: 0.25em;box-sizing: border-box;margin-bottom: 0.5em;}#sk-container-id-1 div.sk-estimator:hover {background-color: #d4ebff;}#sk-container-id-1 div.sk-parallel-item::after {content: \"\";width: 100%;border-bottom: 1px solid gray;flex-grow: 1;}#sk-container-id-1 div.sk-label:hover label.sk-toggleable__label {background-color: #d4ebff;}#sk-container-id-1 div.sk-serial::before {content: \"\";position: absolute;border-left: 1px solid gray;box-sizing: border-box;top: 0;bottom: 0;left: 50%;z-index: 0;}#sk-container-id-1 div.sk-serial {display: flex;flex-direction: column;align-items: center;background-color: white;padding-right: 0.2em;padding-left: 0.2em;position: relative;}#sk-container-id-1 div.sk-item {position: relative;z-index: 1;}#sk-container-id-1 div.sk-parallel {display: flex;align-items: stretch;justify-content: center;background-color: white;position: relative;}#sk-container-id-1 div.sk-item::before, #sk-container-id-1 div.sk-parallel-item::before {content: \"\";position: absolute;border-left: 1px solid gray;box-sizing: border-box;top: 0;bottom: 0;left: 50%;z-index: -1;}#sk-container-id-1 div.sk-parallel-item {display: flex;flex-direction: column;z-index: 1;position: relative;background-color: white;}#sk-container-id-1 div.sk-parallel-item:first-child::after {align-self: flex-end;width: 50%;}#sk-container-id-1 div.sk-parallel-item:last-child::after {align-self: flex-start;width: 50%;}#sk-container-id-1 div.sk-parallel-item:only-child::after {width: 0;}#sk-container-id-1 div.sk-dashed-wrapped {border: 1px dashed gray;margin: 0 0.4em 0.5em 0.4em;box-sizing: border-box;padding-bottom: 0.4em;background-color: white;}#sk-container-id-1 div.sk-label label {font-family: monospace;font-weight: bold;display: inline-block;line-height: 1.2em;}#sk-container-id-1 div.sk-label-container {text-align: center;}#sk-container-id-1 div.sk-container {/* jupyter's `normalize.less` sets `[hidden] { display: none; }` but bootstrap.min.css set `[hidden] { display: none !important; }` so we also need the `!important` here to be able to override the default hidden behavior on the sphinx rendered scikit-learn.org. See: https://github.com/scikit-learn/scikit-learn/issues/21755 */display: inline-block !important;position: relative;}#sk-container-id-1 div.sk-text-repr-fallback {display: none;}</style><div id=\"sk-container-id-1\" class=\"sk-top-container\"><div class=\"sk-text-repr-fallback\"><pre>GaussianNB()</pre><b>In a Jupyter environment, please rerun this cell to show the HTML representation or trust the notebook. <br />On GitHub, the HTML representation is unable to render, please try loading this page with nbviewer.org.</b></div><div class=\"sk-container\" hidden><div class=\"sk-item\"><div class=\"sk-estimator sk-toggleable\"><input class=\"sk-toggleable__control sk-hidden--visually\" id=\"sk-estimator-id-1\" type=\"checkbox\" checked><label for=\"sk-estimator-id-1\" class=\"sk-toggleable__label sk-toggleable__label-arrow\">GaussianNB</label><div class=\"sk-toggleable__content\"><pre>GaussianNB()</pre></div></div></div></div></div>"
            ]
          },
          "metadata": {},
          "execution_count": 16
        }
      ]
    },
    {
      "cell_type": "code",
      "source": [
        "y_pred = classifier.predict(x_test)"
      ],
      "metadata": {
        "id": "VQYPq8gjp44R"
      },
      "execution_count": 17,
      "outputs": []
    },
    {
      "cell_type": "code",
      "source": [
        "from sklearn.metrics import confusion_matrix\n",
        "cm = confusion_matrix(y_test, y_pred)\n",
        "print(cm)"
      ],
      "metadata": {
        "colab": {
          "base_uri": "https://localhost:8080/"
        },
        "id": "F58igrDep8wz",
        "outputId": "3b59ddb4-2e45-4f84-f644-6f8c9b6eca5d"
      },
      "execution_count": 18,
      "outputs": [
        {
          "output_type": "stream",
          "name": "stdout",
          "text": [
            "[[ 44  50]\n",
            " [ 39 117]]\n"
          ]
        }
      ]
    },
    {
      "cell_type": "markdown",
      "source": [
        "dengan akurasi = 0.644"
      ],
      "metadata": {
        "id": "RXNsULUDvY9P"
      }
    },
    {
      "cell_type": "code",
      "source": [
        "from matplotlib.colors import ListedColormap\n",
        "x_set, y_set = x_train, y_train\n",
        "x1, x2 = np.meshgrid(np.arange(start = x_set[:, 0].min()-1, stop = x_set[:, 0].max() + 1, step=0.01),\n",
        "                     np.arange(start = x_set[:, 1].min()-1, stop = x_set[:, 0].max() + 1, step=0.01))\n",
        "plt.contourf(x1, x2, classifier.predict(np.array([x1.ravel(), x2.ravel()]).T).reshape(x1.shape),\n",
        "             alpha = 0.75, cmap = ListedColormap(('red', 'green')))\n",
        "plt.xlim(x1.min(), x1.max())\n",
        "plt.ylim(x2.min(), x2.max())\n",
        "for i, j in enumerate(np.unique(y_set)):\n",
        "  plt.scatter(x_set[y_set == j, 0], x_set[y_set==j, 1],\n",
        "              c = ListedColormap(('red', 'green'))(i), label = j)\n",
        "plt.title('Klasifikasi Data dengan Naive Bayes(Data Training) dengan nilai Reading Test dan Writing Test')\n",
        "plt.xlabel('Reading Test')\n",
        "plt.ylabel('Writing Test')\n",
        "plt.legend()\n",
        "plt.show()"
      ],
      "metadata": {
        "colab": {
          "base_uri": "https://localhost:8080/",
          "height": 428
        },
        "id": "jh0g8fs2qYhp",
        "outputId": "8bb56eeb-9bf3-4c6f-a397-b82868362908"
      },
      "execution_count": 24,
      "outputs": [
        {
          "output_type": "stream",
          "name": "stderr",
          "text": [
            "<ipython-input-24-21e2cf811f1a>:10: UserWarning: *c* argument looks like a single numeric RGB or RGBA sequence, which should be avoided as value-mapping will have precedence in case its length matches with *x* & *y*.  Please use the *color* keyword-argument or provide a 2D array with a single row if you intend to specify the same RGB or RGBA value for all points.\n",
            "  plt.scatter(x_set[y_set == j, 0], x_set[y_set==j, 1],\n"
          ]
        },
        {
          "output_type": "display_data",
          "data": {
            "text/plain": [
              "<Figure size 640x480 with 1 Axes>"
            ],
            "image/png": "[encoded data removed]"
          },
          "metadata": {}
        }
      ]
    },
    {
      "cell_type": "code",
      "source": [
        "from matplotlib.colors import ListedColormap\n",
        "x_set, y_set = x_test, y_test\n",
        "x1, x2 = np.meshgrid(np.arange(start = x_set[:, 0].min()-1, stop = x_set[:, 0].max() + 1, step=0.01),\n",
        "                     np.arange(start = x_set[:, 1].min()-1, stop = x_set[:, 0].max() + 1, step=0.01))\n",
        "plt.contourf(x1, x2, classifier.predict(np.array([x1.ravel(), x2.ravel()]).T).reshape(x1.shape),\n",
        "             alpha = 0.75, cmap = ListedColormap(('red', 'green')))\n",
        "plt.xlim(x1.min(), x1.max())\n",
        "plt.ylim(x2.min(), x2.max())\n",
        "for i, j in enumerate(np.unique(y_set)):\n",
        "  plt.scatter(x_set[y_set == j, 0], x_set[y_set==j, 1],\n",
        "              c = ListedColormap(('red', 'green'))(i), label = j)\n",
        "plt.title('Klasifikasi Data dengan Naive Bayes(Data Testing) dengan nilai Reading Test dan Writing Test')\n",
        "plt.xlabel('Reading Test')\n",
        "plt.ylabel('Writing Test')\n",
        "plt.legend()\n",
        "plt.show()"
      ],
      "metadata": {
        "colab": {
          "base_uri": "https://localhost:8080/",
          "height": 431
        },
        "id": "79QPsffTqtwk",
        "outputId": "a697f943-cf4e-4b06-801a-7eab27944c3c"
      },
      "execution_count": 25,
      "outputs": [
        {
          "output_type": "stream",
          "name": "stderr",
          "text": [
            "<ipython-input-25-fc37348a2f87>:10: UserWarning: *c* argument looks like a single numeric RGB or RGBA sequence, which should be avoided as value-mapping will have precedence in case its length matches with *x* & *y*.  Please use the *color* keyword-argument or provide a 2D array with a single row if you intend to specify the same RGB or RGBA value for all points.\n",
            "  plt.scatter(x_set[y_set == j, 0], x_set[y_set==j, 1],\n"
          ]
        },
        {
          "output_type": "display_data",
          "data": {
            "text/plain": [
              "<Figure size 640x480 with 1 Axes>"
            ],
            "image/png": "[encoded data removed]"
          },
          "metadata": {}
        }
      ]
    }
  ]
}